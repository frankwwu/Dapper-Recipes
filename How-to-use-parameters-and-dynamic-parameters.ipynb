{
 "cells": [
  {
   "cell_type": "markdown",
   "metadata": {},
   "source": [
    "# How to use parameters and dynamic parameters\n",
    "\n",
    "Parameters and dynamic parameters are features of Dapper that let you pass values and types to SQL queries securely and efficiently. They can protect your code from SQL injection attacks, enhance its performance, and make it easier to read and maintain.\n",
    "\n",
    "To use parameters with Dapper, you need to match the names of the parameters in your query to the names of the properties in your C# entity and pass the entity as the parameters. You can follow these steps:\n",
    "* Create a class that represents the data model.\n",
    "* Create a connection object that connects to the database. \n",
    "* Use the <code>Query</code> or <code>QueryAsync</code> method to execute a SQL query or a stored procedure that returns a list of objects. You can pass a parameter object that contains the values for the parameters in the query or the procedure. For example:\n"
   ]
  },
  {
   "cell_type": "code",
   "execution_count": 1,
   "metadata": {
    "dotnet_interactive": {
     "language": "csharp"
    },
    "polyglot_notebook": {
     "kernelName": "csharp"
    }
   },
   "outputs": [],
   "source": [
    "// Connection string\n",
    "#load \"AppSettings.cs\""
   ]
  },
  {
   "cell_type": "code",
   "execution_count": 2,
   "metadata": {
    "dotnet_interactive": {
     "language": "csharp"
    },
    "polyglot_notebook": {
     "kernelName": "csharp"
    }
   },
   "outputs": [
    {
     "data": {
      "text/html": [
       "<div><div></div><div></div><div><strong>Installed Packages</strong><ul><li><span>Dapper, 2.1.28</span></li><li><span>Microsoft.Data.SqlClient, 5.1.4</span></li></ul></div></div>"
      ]
     },
     "metadata": {},
     "output_type": "display_data"
    }
   ],
   "source": [
    "#r \"nuget:Microsoft.Data.SqlClient\"\n",
    "#r \"nuget:Dapper\""
   ]
  },
  {
   "cell_type": "code",
   "execution_count": 3,
   "metadata": {
    "dotnet_interactive": {
     "language": "csharp"
    },
    "polyglot_notebook": {
     "kernelName": "csharp"
    }
   },
   "outputs": [],
   "source": [
    "using Microsoft.Data.SqlClient;\n",
    "using System.Data;\n",
    "using System.Data.Common;\n",
    "using Dapper;"
   ]
  },
  {
   "cell_type": "code",
   "execution_count": 4,
   "metadata": {
    "dotnet_interactive": {
     "language": "csharp"
    },
    "polyglot_notebook": {
     "kernelName": "csharp"
    }
   },
   "outputs": [],
   "source": [
    "public class Location\n",
    "{\n",
    "    public short LocationID { get; set; }\n",
    "    public string Name { get; set; }\n",
    "    public decimal CostRate { get; set; }\n",
    "    public decimal Availability { get; set; }\n",
    "    public DateTime ModifiedDate { get; set; }\n",
    "\n",
    "    public void Display()\n",
    "    {       \n",
    "        Console.WriteLine($\"LocationID: {LocationID}\");\n",
    "        Console.WriteLine($\"Name: {Name}\");\n",
    "        Console.WriteLine($\"CostRate: {CostRate}\");\n",
    "        Console.WriteLine($\"Availability: {Availability}\");\n",
    "        Console.WriteLine($\"ModifiedDate: {ModifiedDate}\");\n",
    "    }\n",
    "}\n",
    "\n",
    "public class Employee\n",
    "{\n",
    "    public int RecursionLevel { get; set; }\n",
    "    public string OrganizationNode { get; set; }\n",
    "    public string ManagerFirstName { get; set; }\n",
    "    public string ManagerLastName { get; set; }\n",
    "    public int BusinessEntityID { get; set; }\n",
    "    public string FirstName { get; set; }\n",
    "    public string LastName { get; set; }\n",
    "\n",
    "    public void Display()\n",
    "    {       \n",
    "        Console.WriteLine($\"RecursionLevel: {RecursionLevel}\");\n",
    "        Console.WriteLine($\"OrganizationNode: {OrganizationNode}\");\n",
    "        Console.WriteLine($\"ManagerFirstName: {ManagerFirstName}\");\n",
    "        Console.WriteLine($\"ManagerLastName: {ManagerLastName}\");\n",
    "        Console.WriteLine($\"BusinessEntityID: {BusinessEntityID}\");\n",
    "        Console.WriteLine($\"BusinessEntityID: {FirstName}\");\n",
    "        Console.WriteLine($\"BusinessEntityID: {LastName}\");        \n",
    "    }\n",
    "}"
   ]
  },
  {
   "cell_type": "code",
   "execution_count": 5,
   "metadata": {
    "dotnet_interactive": {
     "language": "csharp"
    },
    "polyglot_notebook": {
     "kernelName": "csharp"
    }
   },
   "outputs": [
    {
     "name": "stdout",
     "output_type": "stream",
     "text": [
      "\n",
      "Query with a single parameter:\n",
      "\n",
      "LocationID: 1\n",
      "Name: Tool Crib\n",
      "CostRate: 0.0000\n",
      "Availability: 0.00\n",
      "ModifiedDate: 4/30/2008 12:00:00 AM\n",
      "\n",
      "Query with multiple parameters:\n",
      "\n",
      "LocationID: 30\n",
      "Name: Debur and Polish\n",
      "CostRate: 14.5000\n",
      "Availability: 120.00\n",
      "ModifiedDate: 4/30/2008 12:00:00 AM\n",
      "LocationID: 40\n",
      "Name: Paint\n",
      "CostRate: 15.7500\n",
      "Availability: 120.00\n",
      "ModifiedDate: 4/30/2008 12:00:00 AM\n",
      "LocationID: 45\n",
      "Name: Specialized Paint\n",
      "CostRate: 18.0000\n",
      "Availability: 80.00\n",
      "ModifiedDate: 4/30/2008 12:00:00 AM\n",
      "LocationID: 50\n",
      "Name: Subassembly\n",
      "CostRate: 12.2500\n",
      "Availability: 120.00\n",
      "ModifiedDate: 4/30/2008 12:00:00 AM\n",
      "LocationID: 60\n",
      "Name: Final Assembly\n",
      "CostRate: 12.2500\n",
      "Availability: 120.00\n",
      "ModifiedDate: 4/30/2008 12:00:00 AM\n",
      "\n",
      "Stored procedure with a single parameter:\n",
      "\n"
     ]
    },
    {
     "data": {
      "text/html": [
       "<table><thead><tr><th><i>index</i></th><th>value</th></tr></thead><tbody><tr><td>0</td><td><details class=\"dni-treeview\"><summary><span class=\"dni-code-hint\"><code>Submission#4+Employee</code></span></summary><div><table><thead><tr></tr></thead><tbody><tr><td>RecursionLevel</td><td><div class=\"dni-plaintext\"><pre>0</pre></div></td></tr><tr><td>OrganizationNode</td><td><div class=\"dni-plaintext\"><pre>/1/1/2/</pre></div></td></tr><tr><td>ManagerFirstName</td><td><div class=\"dni-plaintext\"><pre>Roberto</pre></div></td></tr><tr><td>ManagerLastName</td><td><div class=\"dni-plaintext\"><pre>Tamburello</pre></div></td></tr><tr><td>BusinessEntityID</td><td><div class=\"dni-plaintext\"><pre>5</pre></div></td></tr><tr><td>FirstName</td><td><div class=\"dni-plaintext\"><pre>Gail</pre></div></td></tr><tr><td>LastName</td><td><div class=\"dni-plaintext\"><pre>Erickson</pre></div></td></tr></tbody></table></div></details></td></tr></tbody></table><style>\r\n",
       ".dni-code-hint {\r\n",
       "    font-style: italic;\r\n",
       "    overflow: hidden;\r\n",
       "    white-space: nowrap;\r\n",
       "}\r\n",
       ".dni-treeview {\r\n",
       "    white-space: nowrap;\r\n",
       "}\r\n",
       ".dni-treeview td {\r\n",
       "    vertical-align: top;\r\n",
       "    text-align: start;\r\n",
       "}\r\n",
       "details.dni-treeview {\r\n",
       "    padding-left: 1em;\r\n",
       "}\r\n",
       "table td {\r\n",
       "    text-align: start;\r\n",
       "}\r\n",
       "table tr { \r\n",
       "    vertical-align: top; \r\n",
       "    margin: 0em 0px;\r\n",
       "}\r\n",
       "table tr td pre \r\n",
       "{ \r\n",
       "    vertical-align: top !important; \r\n",
       "    margin: 0em 0px !important;\r\n",
       "} \r\n",
       "table th {\r\n",
       "    text-align: start;\r\n",
       "}\r\n",
       "</style>"
      ]
     },
     "metadata": {},
     "output_type": "display_data"
    }
   ],
   "source": [
    "using (var connection = new SqlConnection(connectionString))\n",
    "{    \n",
    "    // query with a single parameter\n",
    "    var query = \"SELECT * FROM Production.Location WHERE LocationID = @LocationID\";\n",
    "    var parameter = new { LocationID = 1 };\n",
    "    var result = connection.Query<Location>(query, parameter);\n",
    "    Console.WriteLine(\"\\nQuery with a single parameter:\\n\");\n",
    "    foreach(var location in  result)\n",
    "    {\n",
    "        location.Display();\n",
    "    }\n",
    "}\n",
    "\n",
    "using (var connection = new SqlConnection(connectionString))\n",
    "{    \n",
    "    // query with multiple parameters\n",
    "    var query = \"SELECT * FROM Production.Location WHERE CostRate BETWEEN @MinCostRate AND @MaxCostRate\";\n",
    "    var parameters = new { MinCostRate = 10, MaxCostRate = 20 };\n",
    "    var result = connection.Query<Location>(query, parameters);\n",
    "    Console.WriteLine(\"\\nQuery with multiple parameters:\\n\");\n",
    "    foreach(var location in  result)\n",
    "    {\n",
    "        location.Display();\n",
    "    }\n",
    "}\n",
    "\n",
    "using (var connection = new SqlConnection(connectionString))\n",
    "{        \n",
    "    // stored procedure with a single parameter\n",
    "    var procedure = \"uspGetManagerEmployees\";\n",
    "    var parameter = new { BusinessEntityID = 5 };\n",
    "    var result = connection.Query<Employee>(procedure, parameter, commandType: CommandType.StoredProcedure);\n",
    "    Console.WriteLine(\"\\nStored procedure with a single parameter:\\n\");\n",
    "    result.Display();   \n",
    "}"
   ]
  },
  {
   "cell_type": "markdown",
   "metadata": {},
   "source": [
    "* You can use the <code>DynamicParameters</code> class to create a dynamic parameter object that can handle various types of parameters, such as input, output, return value, or table-valued parameters. Here is a simple example of using the <code>DynamicParameters</code> class with C# and Dapper.\n",
    "\n",
    "1. First, let’s use the existing stored procedure named <code>uspGetBillOfMaterials</code> that takes two parameters: <code>@StartProductID</code> and <code>@CheckDate</code>. The stored procedure returns the list of components and subassemblies needed to build a product on a given date.\n",
    "2. To call this stored procedure using C# and Dapper, we need to create a dynamic parameter object and add the values for the parameters. We also need to specify the data type and the direction of each parameter. \n"
   ]
  },
  {
   "cell_type": "code",
   "execution_count": 6,
   "metadata": {
    "dotnet_interactive": {
     "language": "csharp"
    },
    "polyglot_notebook": {
     "kernelName": "csharp"
    }
   },
   "outputs": [
    {
     "data": {
      "text/html": [
       "<table><thead><tr><th><i>index</i></th><th>value</th></tr></thead><tbody><tr><td>0</td><td><details class=\"dni-treeview\"><summary><span class=\"dni-code-hint\"><code>Submission#6+BillOfMaterials</code></span></summary><div><table><thead><tr></tr></thead><tbody><tr><td>ProductAssemblyID</td><td><div class=\"dni-plaintext\"><pre>726</pre></div></td></tr><tr><td>ComponentID</td><td><div class=\"dni-plaintext\"><pre>493</pre></div></td></tr><tr><td>ComponentDesc</td><td><div class=\"dni-plaintext\"><pre>Paint - Red</pre></div></td></tr><tr><td>PerAssemblyQty</td><td><div class=\"dni-plaintext\"><pre>0</pre></div></td></tr><tr><td>StandardCost</td><td><div class=\"dni-plaintext\"><pre>0.0000</pre></div></td></tr><tr><td>ListPrice</td><td><div class=\"dni-plaintext\"><pre>0.0000</pre></div></td></tr><tr><td>BOMLevel</td><td><div class=\"dni-plaintext\"><pre>2</pre></div></td></tr><tr><td>RecursionLevel</td><td><div class=\"dni-plaintext\"><pre>0</pre></div></td></tr></tbody></table></div></details></td></tr><tr><td>1</td><td><details class=\"dni-treeview\"><summary><span class=\"dni-code-hint\"><code>Submission#6+BillOfMaterials</code></span></summary><div><table><thead><tr></tr></thead><tbody><tr><td>ProductAssemblyID</td><td><div class=\"dni-plaintext\"><pre>726</pre></div></td></tr><tr><td>ComponentID</td><td><div class=\"dni-plaintext\"><pre>532</pre></div></td></tr><tr><td>ComponentDesc</td><td><div class=\"dni-plaintext\"><pre>Seat Stays</pre></div></td></tr><tr><td>PerAssemblyQty</td><td><div class=\"dni-plaintext\"><pre>0</pre></div></td></tr><tr><td>StandardCost</td><td><div class=\"dni-plaintext\"><pre>0.0000</pre></div></td></tr><tr><td>ListPrice</td><td><div class=\"dni-plaintext\"><pre>0.0000</pre></div></td></tr><tr><td>BOMLevel</td><td><div class=\"dni-plaintext\"><pre>2</pre></div></td></tr><tr><td>RecursionLevel</td><td><div class=\"dni-plaintext\"><pre>0</pre></div></td></tr></tbody></table></div></details></td></tr><tr><td>2</td><td><details class=\"dni-treeview\"><summary><span class=\"dni-code-hint\"><code>Submission#6+BillOfMaterials</code></span></summary><div><table><thead><tr></tr></thead><tbody><tr><td>ProductAssemblyID</td><td><div class=\"dni-plaintext\"><pre>726</pre></div></td></tr><tr><td>ComponentID</td><td><div class=\"dni-plaintext\"><pre>533</pre></div></td></tr><tr><td>ComponentDesc</td><td><div class=\"dni-plaintext\"><pre>Seat Tube</pre></div></td></tr><tr><td>PerAssemblyQty</td><td><div class=\"dni-plaintext\"><pre>0</pre></div></td></tr><tr><td>StandardCost</td><td><div class=\"dni-plaintext\"><pre>0.0000</pre></div></td></tr><tr><td>ListPrice</td><td><div class=\"dni-plaintext\"><pre>0.0000</pre></div></td></tr><tr><td>BOMLevel</td><td><div class=\"dni-plaintext\"><pre>2</pre></div></td></tr><tr><td>RecursionLevel</td><td><div class=\"dni-plaintext\"><pre>0</pre></div></td></tr></tbody></table></div></details></td></tr><tr><td>3</td><td><details class=\"dni-treeview\"><summary><span class=\"dni-code-hint\"><code>Submission#6+BillOfMaterials</code></span></summary><div><table><thead><tr></tr></thead><tbody><tr><td>ProductAssemblyID</td><td><div class=\"dni-plaintext\"><pre>726</pre></div></td></tr><tr><td>ComponentID</td><td><div class=\"dni-plaintext\"><pre>534</pre></div></td></tr><tr><td>ComponentDesc</td><td><div class=\"dni-plaintext\"><pre>Top Tube</pre></div></td></tr><tr><td>PerAssemblyQty</td><td><div class=\"dni-plaintext\"><pre>0</pre></div></td></tr><tr><td>StandardCost</td><td><div class=\"dni-plaintext\"><pre>0.0000</pre></div></td></tr><tr><td>ListPrice</td><td><div class=\"dni-plaintext\"><pre>0.0000</pre></div></td></tr><tr><td>BOMLevel</td><td><div class=\"dni-plaintext\"><pre>2</pre></div></td></tr><tr><td>RecursionLevel</td><td><div class=\"dni-plaintext\"><pre>0</pre></div></td></tr></tbody></table></div></details></td></tr><tr><td>4</td><td><details class=\"dni-treeview\"><summary><span class=\"dni-code-hint\"><code>Submission#6+BillOfMaterials</code></span></summary><div><table><thead><tr></tr></thead><tbody><tr><td>ProductAssemblyID</td><td><div class=\"dni-plaintext\"><pre>533</pre></div></td></tr><tr><td>ComponentID</td><td><div class=\"dni-plaintext\"><pre>478</pre></div></td></tr><tr><td>ComponentDesc</td><td><div class=\"dni-plaintext\"><pre>Metal Bar 2</pre></div></td></tr><tr><td>PerAssemblyQty</td><td><div class=\"dni-plaintext\"><pre>0</pre></div></td></tr><tr><td>StandardCost</td><td><div class=\"dni-plaintext\"><pre>0.0000</pre></div></td></tr><tr><td>ListPrice</td><td><div class=\"dni-plaintext\"><pre>0.0000</pre></div></td></tr><tr><td>BOMLevel</td><td><div class=\"dni-plaintext\"><pre>3</pre></div></td></tr><tr><td>RecursionLevel</td><td><div class=\"dni-plaintext\"><pre>1</pre></div></td></tr></tbody></table></div></details></td></tr><tr><td>5</td><td><details class=\"dni-treeview\"><summary><span class=\"dni-code-hint\"><code>Submission#6+BillOfMaterials</code></span></summary><div><table><thead><tr></tr></thead><tbody><tr><td>ProductAssemblyID</td><td><div class=\"dni-plaintext\"><pre>534</pre></div></td></tr><tr><td>ComponentID</td><td><div class=\"dni-plaintext\"><pre>482</pre></div></td></tr><tr><td>ComponentDesc</td><td><div class=\"dni-plaintext\"><pre>Metal Sheet 2</pre></div></td></tr><tr><td>PerAssemblyQty</td><td><div class=\"dni-plaintext\"><pre>0</pre></div></td></tr><tr><td>StandardCost</td><td><div class=\"dni-plaintext\"><pre>0.0000</pre></div></td></tr><tr><td>ListPrice</td><td><div class=\"dni-plaintext\"><pre>0.0000</pre></div></td></tr><tr><td>BOMLevel</td><td><div class=\"dni-plaintext\"><pre>3</pre></div></td></tr><tr><td>RecursionLevel</td><td><div class=\"dni-plaintext\"><pre>1</pre></div></td></tr></tbody></table></div></details></td></tr></tbody></table><style>\r\n",
       ".dni-code-hint {\r\n",
       "    font-style: italic;\r\n",
       "    overflow: hidden;\r\n",
       "    white-space: nowrap;\r\n",
       "}\r\n",
       ".dni-treeview {\r\n",
       "    white-space: nowrap;\r\n",
       "}\r\n",
       ".dni-treeview td {\r\n",
       "    vertical-align: top;\r\n",
       "    text-align: start;\r\n",
       "}\r\n",
       "details.dni-treeview {\r\n",
       "    padding-left: 1em;\r\n",
       "}\r\n",
       "table td {\r\n",
       "    text-align: start;\r\n",
       "}\r\n",
       "table tr { \r\n",
       "    vertical-align: top; \r\n",
       "    margin: 0em 0px;\r\n",
       "}\r\n",
       "table tr td pre \r\n",
       "{ \r\n",
       "    vertical-align: top !important; \r\n",
       "    margin: 0em 0px !important;\r\n",
       "} \r\n",
       "table th {\r\n",
       "    text-align: start;\r\n",
       "}\r\n",
       "</style>"
      ]
     },
     "metadata": {},
     "output_type": "display_data"
    }
   ],
   "source": [
    "public class BillOfMaterials\n",
    "{    \n",
    "    public int ProductAssemblyID { get; set; }\n",
    "    public int ComponentID { get; set; }\n",
    "    public string ComponentDesc { get; set; }\n",
    "    public decimal PerAssemblyQty { get; set; }\n",
    "    public decimal StandardCost { get; set; }\n",
    "    public decimal ListPrice { get; set; }\n",
    "    public int BOMLevel { get; set; }\n",
    "    public int RecursionLevel { get; set; }  \n",
    "  \n",
    "    public void Display()\n",
    "    {       \n",
    "        Console.WriteLine($\"ProductAssemblyID: {ProductAssemblyID}\");\n",
    "        Console.WriteLine($\"ComponentID: {ComponentID}\");\n",
    "        Console.WriteLine($\"ComponentDesc: {ComponentDesc}\");\n",
    "        Console.WriteLine($\"PerAssemblyQty: {PerAssemblyQty}\");\n",
    "        Console.WriteLine($\"StandardCost: {StandardCost}\");\n",
    "        Console.WriteLine($\"ListPrice: {ListPrice}\");\n",
    "        Console.WriteLine($\"BOMLevel: {BOMLevel}\");\n",
    "        Console.WriteLine($\"RecursionLevel: {RecursionLevel}\");\n",
    "    }\n",
    "}\n",
    "\n",
    "using (var connection = new SqlConnection(connectionString))\n",
    "{\n",
    "    // create a dynamic parameter object\n",
    "    var dynamicParameter = new DynamicParameters();\n",
    "\n",
    "    // add the values for the stored procedure parameters\n",
    "    dynamicParameter.Add(\"@StartProductID\", 726, DbType.Int32, ParameterDirection.Input);\n",
    "    dynamicParameter.Add(\"@CheckDate\", new DateTime(2010, 5, 26), DbType.DateTime, ParameterDirection.Input);\n",
    "\n",
    "    // execute the stored procedure and get a list of BillOfMaterials objects\n",
    "    var result = connection.Query<BillOfMaterials>(\"uspGetBillOfMaterials\", dynamicParameter, commandType: CommandType.StoredProcedure);\n",
    "    result.Display();\n",
    "}"
   ]
  }
 ],
 "metadata": {
  "kernelspec": {
   "display_name": ".NET (C#)",
   "language": "C#",
   "name": ".net-csharp"
  },
  "language_info": {
   "name": "polyglot-notebook"
  },
  "polyglot_notebook": {
   "kernelInfo": {
    "defaultKernelName": "csharp",
    "items": [
     {
      "aliases": [],
      "name": "csharp"
     }
    ]
   }
  }
 },
 "nbformat": 4,
 "nbformat_minor": 2
}
