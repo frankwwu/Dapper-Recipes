{
 "cells": [
  {
   "cell_type": "markdown",
   "metadata": {},
   "source": [
    "# How to perform bulk insert, update, and delete operations\n",
    "\n",
    "Performing bulk insert, update, and delete operations with C# and Dapper can help you improve the performance and efficiency of your data access layer. Dapper is a micro-ORM that simplifies the data access code and reduces the boilerplate code. You can use Dapper's extension methods, query builders, and custom mappers to perform bulk operations from a collection of objects to a SQL Server table.\n",
    "\n",
    "To illustrate this, let's assume that we have a collection of <code>Product</code> objects that we want to perform bulk operations on. The <code>Product</code> class and the Production.Product table have the same schema as in the previous example. We can use the following code snippets to perform bulk operations using Dapper:\n",
    "\n"
   ]
  },
  {
   "cell_type": "code",
   "execution_count": 1,
   "metadata": {
    "dotnet_interactive": {
     "language": "csharp"
    },
    "polyglot_notebook": {
     "kernelName": "csharp"
    }
   },
   "outputs": [],
   "source": [
    "// Connection string\n",
    "#load \"AppSettings.cs\""
   ]
  },
  {
   "cell_type": "code",
   "execution_count": 2,
   "metadata": {
    "dotnet_interactive": {
     "language": "csharp"
    },
    "polyglot_notebook": {
     "kernelName": "csharp"
    }
   },
   "outputs": [
    {
     "data": {
      "text/html": [
       "<div><div></div><div></div><div><strong>Installed Packages</strong><ul><li><span>Dapper, 2.1.28</span></li><li><span>Microsoft.Data.SqlClient, 5.1.4</span></li><li><span>System.ComponentModel, 4.3.0</span></li><li><span>Z.Dapper.Plus, 7.2.1</span></li></ul></div></div>"
      ]
     },
     "metadata": {},
     "output_type": "display_data"
    }
   ],
   "source": [
    "#r \"nuget:Microsoft.Data.SqlClient\"\n",
    "#r \"nuget:System.ComponentModel\"\n",
    "#r \"nuget:Dapper\"\n",
    "#r \"nuget:Z.Dapper.Plus\""
   ]
  },
  {
   "cell_type": "code",
   "execution_count": 3,
   "metadata": {
    "dotnet_interactive": {
     "language": "csharp"
    },
    "polyglot_notebook": {
     "kernelName": "csharp"
    }
   },
   "outputs": [],
   "source": [
    "using Microsoft.Data.SqlClient;\n",
    "using System;\n",
    "using System.Collections.Generic;\n",
    "using Dapper;\n",
    "using Z.Dapper.Plus;\n",
    "\n",
    "public class Product\n",
    "{    \n",
    "    public int ProductID { get; set; }\n",
    "    public string Name { get; set; }\n",
    "    public string ProductNumber { get; set; }\n",
    "    public string Color { get; set; }\n",
    "    public decimal StandardCost { get; set; }\n",
    "    public decimal ListPrice { get; set; }\n",
    "    public int SafetyStockLevel { get; set; }\n",
    "    public int ReorderPoint { get; set; }\n",
    "    public int DaysToManufacture { get; set; }\n",
    "    public DateTime SellStartDate { get; set; }\n",
    "}"
   ]
  },
  {
   "cell_type": "markdown",
   "metadata": {},
   "source": [
    "__Bulk insert:__"
   ]
  },
  {
   "cell_type": "code",
   "execution_count": 4,
   "metadata": {
    "dotnet_interactive": {
     "language": "csharp"
    },
    "polyglot_notebook": {
     "kernelName": "csharp"
    }
   },
   "outputs": [
    {
     "name": "stdout",
     "output_type": "stream",
     "text": [
      "1202, Gloves-7060, GL-H01-6285, Black, 5.0000, 9.9900\n",
      "1201, Water Bottle-9321, WB-H01-5810, Blue, 1.0000, 3.4900\n",
      "1200, Bike Helmet-5802, BK-H01-8188, Red, 15.5000, 34.9900\n"
     ]
    }
   ],
   "source": [
    "var rand = new Random();\n",
    "var productsToInsert = new List<Product>()\n",
    "{\n",
    "    new Product() { Name = \"Bike Helmet-\" + rand.Next(1000, 9999), ProductNumber = \"BK-H01-\" + rand.Next(1000, 9999),\n",
    "                    Color = \"Red\", StandardCost = 15.50m, ListPrice = 34.99m, SafetyStockLevel = 999, \n",
    "                    ReorderPoint = 777, DaysToManufacture = 1, SellStartDate = new DateTime(2000, 1, 2) },\n",
    "    new Product() { Name = \"Water Bottle-\" + rand.Next(1000, 9999), ProductNumber = \"WB-H01-\" + rand.Next(1000, 9999),\n",
    "                    Color = \"Blue\", StandardCost = 1.00m, ListPrice = 3.49m, SafetyStockLevel = 999, \n",
    "                    ReorderPoint = 777, DaysToManufacture = 1, SellStartDate = new DateTime(2000, 1, 2) },\n",
    "    new Product() { Name = \"Gloves-\" + rand.Next(1000, 9999), ProductNumber = \"GL-H01-\" + rand.Next(1000, 9999),\n",
    "                    Color = \"Black\", StandardCost = 5.00m, ListPrice = 9.99m, SafetyStockLevel = 999, \n",
    "                    ReorderPoint = 777, DaysToManufacture = 1, SellStartDate = new DateTime(2000, 1, 2) }\n",
    "};\n",
    "\n",
    "List<Product> newPoducts;\n",
    "using (var connection = new SqlConnection(connectionString))\n",
    "{\n",
    "    // Open the connection\n",
    "    connection.Open();\n",
    "\n",
    "    // Configure Dapper Plus to map the Product entity to the Product table and specify the identity column\n",
    "    DapperPlusManager.Entity<Product>().Table(\"Production.Product\").Identity(x => x.ProductID);\n",
    "\n",
    "    // Perform bulk insert operation\n",
    "    connection.BulkInsert(productsToInsert);    \n",
    "\n",
    "    // Query the Product table and display the results   \n",
    "    newPoducts = connection.Query<Product>(\"SELECT top 3 * FROM Production.Product order by ProductID desc\").ToList();\n",
    "\n",
    "    foreach (var product in newPoducts)\n",
    "    {\n",
    "        Console.WriteLine($\"{product.ProductID}, {product.Name}, {product.ProductNumber}, {product.Color}, {product.StandardCost}, {product.ListPrice}\");\n",
    "    }\n",
    "}"
   ]
  },
  {
   "cell_type": "markdown",
   "metadata": {},
   "source": [
    "__Bulk update__:"
   ]
  },
  {
   "cell_type": "code",
   "execution_count": 5,
   "metadata": {
    "dotnet_interactive": {
     "language": "csharp"
    },
    "polyglot_notebook": {
     "kernelName": "csharp"
    }
   },
   "outputs": [
    {
     "name": "stdout",
     "output_type": "stream",
     "text": [
      "1202, Adjustable Race-4394, AR-5732, Silver, 300.0000, 400.0000, 555, 0, 1/10/2024 8:45:46 PM\n",
      "1201, Bearing Ball-2898, BA-4389, Black, 0.5000, 0.9900, 555, 0, 1/10/2024 8:45:46 PM\n",
      "1200, BB Ball Bearing-5680, BE-1308, Silver, 0.7500, 1.4900, 555, 0, 1/10/2024 8:45:46 PM\n"
     ]
    }
   ],
   "source": [
    "var productsToUpdate = new List<Product>()\n",
    "{\n",
    "    new Product() { ProductID = newPoducts[0].ProductID, Name = \"Adjustable Race-\" + rand.Next(1000, 9999), \n",
    "                    ProductNumber = \"AR-\" + rand.Next(1000, 9999), Color = \"Silver\", StandardCost = 300.00m,\n",
    "                    ListPrice = 400.00m, SafetyStockLevel = 555, ReorderPoint = 747, DaysToManufacture = 0, \n",
    "                    SellStartDate = DateTime.Now },\n",
    "    new Product() { ProductID = newPoducts[1].ProductID, Name = \"Bearing Ball-\" + rand.Next(1000, 9999), \n",
    "                    ProductNumber = \"BA-\" + rand.Next(1000, 9999), Color = \"Black\", StandardCost = 0.50m, \n",
    "                    ListPrice = 0.99m, SafetyStockLevel = 555, ReorderPoint = 747, DaysToManufacture = 0, \n",
    "                    SellStartDate = DateTime.Now },\n",
    "    new Product() { ProductID = newPoducts[2].ProductID, Name = \"BB Ball Bearing-\" + rand.Next(1000, 9999), \n",
    "                    ProductNumber = \"BE-\" + rand.Next(1000, 9999), Color = \"Silver\", StandardCost = 0.75m, \n",
    "                    ListPrice = 1.49m, SafetyStockLevel = 555, ReorderPoint = 747, DaysToManufacture = 0, \n",
    "                    SellStartDate = DateTime.Now  }\n",
    "};\n",
    "\n",
    "using (var connection = new SqlConnection(connectionString))\n",
    "{\n",
    "    // Open the connection\n",
    "    connection.Open();\n",
    "\n",
    "    // Configure Dapper Plus to map the Product entity to the Product table and specify the identity column\n",
    "    DapperPlusManager.Entity<Product>().Table(\"Production.Product\").Identity(x => x.ProductID);\n",
    "  \n",
    "    // Perform bulk update operation\n",
    "    connection.BulkUpdate(productsToUpdate);\n",
    "\n",
    "    // Query the Product table and display the results\n",
    "    var sql = $@\"SELECT ProductID, Name, ProductNumber, Color, StandardCost, ListPrice, SafetyStockLevel, \n",
    "                        DaysToManufacture, SellStartDate\n",
    "                        FROM Production.Product\n",
    "                        WHERE ProductID = @ProductID\";\n",
    "\n",
    "    foreach(Product product in productsToUpdate)                    \n",
    "    {\n",
    "        List<Product> products = connection.Query<Product>(sql, product).ToList();\n",
    "        foreach (var p in products)\n",
    "        {\n",
    "            Console.WriteLine($\"{p.ProductID}, {p.Name}, {p.ProductNumber}, {p.Color}, {p.StandardCost}, {p.ListPrice}, {p.SafetyStockLevel}, {p.DaysToManufacture}, {p.SellStartDate}\");\n",
    "        }\n",
    "    } \n",
    "}"
   ]
  },
  {
   "cell_type": "markdown",
   "metadata": {},
   "source": [
    "__Bulk delete__:"
   ]
  },
  {
   "cell_type": "code",
   "execution_count": 6,
   "metadata": {
    "dotnet_interactive": {
     "language": "csharp"
    },
    "polyglot_notebook": {
     "kernelName": "csharp"
    }
   },
   "outputs": [],
   "source": [
    "var productsToDelete = new List<Product>()\n",
    "{\n",
    "    new Product() { ProductID = newPoducts[0].ProductID },\n",
    "    new Product() { ProductID = newPoducts[1].ProductID },\n",
    "    new Product() { ProductID = newPoducts[2].ProductID }\n",
    "};\n",
    "\n",
    "using (var connection = new SqlConnection(connectionString))\n",
    "{\n",
    "    // Open the connection\n",
    "    connection.Open();\n",
    "\n",
    "    // Configure Dapper Plus to map the Product entity to the Product table and specify the identity column\n",
    "    DapperPlusManager.Entity<Product>().Table(\"Production.Product\").Identity(x => x.ProductID);    \n",
    "\n",
    "    // Perform bulk delete operation\n",
    "    connection.BulkDelete(productsToDelete);\n",
    "\n",
    "    // Query the Product table and display the results, which have been deleted already.\n",
    "    var sql = $@\"SELECT ProductID, Name, ProductNumber, Color, StandardCost, ListPrice, SafetyStockLevel, \n",
    "                        DaysToManufacture, SellStartDate\n",
    "                        FROM Production.Product\n",
    "                        WHERE ProductID = @ProductID\";\n",
    "\n",
    "    foreach(Product product in productsToUpdate)                    \n",
    "    {\n",
    "        List<Product> products = connection.Query<Product>(sql, product).ToList();\n",
    "        foreach (var p in products)\n",
    "        {\n",
    "            Console.WriteLine($\"{p.ProductID}, {p.Name}, {p.ProductNumber}, {p.Color}, {p.StandardCost}, {p.ListPrice}, {p.SafetyStockLevel}, {p.DaysToManufacture}, {p.SellStartDate}\");\n",
    "        }\n",
    "    } \n",
    "}"
   ]
  }
 ],
 "metadata": {
  "kernelspec": {
   "display_name": ".NET (C#)",
   "language": "C#",
   "name": ".net-csharp"
  },
  "language_info": {
   "name": "polyglot-notebook"
  },
  "polyglot_notebook": {
   "kernelInfo": {
    "defaultKernelName": "csharp",
    "items": [
     {
      "aliases": [],
      "name": "csharp"
     }
    ]
   }
  }
 },
 "nbformat": 4,
 "nbformat_minor": 2
}
