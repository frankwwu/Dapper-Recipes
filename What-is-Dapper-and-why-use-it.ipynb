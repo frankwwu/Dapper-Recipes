{
 "cells": [
  {
   "cell_type": "markdown",
   "metadata": {},
   "source": [
    "# What is Dapper and why use it"
   ]
  },
  {
   "cell_type": "markdown",
   "metadata": {},
   "source": [
    "## Introduction\n",
    "\n",
    "Dapper is a simple object mapper for .NET that allows you to execute SQL queries and map the results to objects. It is a micro-ORM that is fast, lightweight, and easy to use. Dapper was created by the developers of Stack Overflow to improve the performance and scalability of their website¹. \n",
    "\n",
    "Some of the reasons to use Dapper are:\n",
    "\n",
    "* It is faster than most other ORM tools, such as Entity Framework, because it does not generate SQL for you or track changes to your objects. It only maps the data from the database to your objects and vice versa.\n",
    "* It is simple and intuitive, requiring minimal configuration and code. You can write your own SQL queries and use Dapper's extension methods to execute them and map the results. You can also use stored procedures, dynamic parameters, and multiple result sets with Dapper.\n",
    "* It is cross-platform and compatible with .NET and .NET Core. You can use Dapper with any database provider that supports ADO.NET, such as SQL Server, SQLite, MySQL, PostgreSQL, Oracle, etc.\n",
    "* It is open-source and well-maintained, with a large and active community of users and contributors. You can find many resources, tutorials, and extensions for Dapper online."
   ]
  },
  {
   "cell_type": "markdown",
   "metadata": {},
   "source": [
    "## Dapper vs. Entity Framework:\n",
    "\n",
    "| Feature | Dapper | Entity Framework |\n",
    "| --- | --- | --- |\n",
    "| Performance | Faster than EF, as it does not generate SQL or track changes | Slower than Dapper, as it generates SQL and tracks changes |\n",
    "| Simplicity | Simple and intuitive, requiring minimal code and configuration | More complex and abstract, requiring more code and configuration |\n",
    "| Querying | Supports custom SQL queries, stored procedures, dynamic parameters, and multiple result sets | Supports LINQ queries, query builder methods, and raw SQL queries |\n",
    "| CRUD Operations | Does not provide CRUD features by default, but can be added with extensions | Provides CRUD features out of the box, with automatic change tracking and saving |\n",
    "| Model Generation | Does not generate C# models or database tables automatically | Can generate C# models or database tables automatically, using code-first or database-first approach |\n",
    "| Data Migrations | Does not support data migrations | Supports data migrations, with automatic or manual scripts |\n",
    "| Data Validation | Does not support data validation | Supports data validation, with annotations or fluent API |\n",
    "| Conventions | Does not support conventions | Supports conventions, such as naming, relationships, and cascading |\n",
    "| Database Support | Supports any database provider that supports ADO.NET | Supports most popular database providers, with official or third-party extensions |"
   ]
  },
  {
   "cell_type": "markdown",
   "metadata": {},
   "source": [
    "## Some of the commonly used Dapper extensions are:\n",
    "\n",
    "* **Dapper.Contrib**: A collection of extension methods for Dapper that simplifies the CRUD operations, such as Insert, Update, Delete, and Get. It also supports automatic key generation, optimistic concurrency, and dirty tracking¹.\n",
    "* **Dapper.FluentMap**: A library that allows you to configure the mapping between your domain classes and database tables using a fluent API. It also supports convention-based mapping, custom mapping strategies, and attribute mapping².\n",
    "* **Dapper.SimpleCRUD**: A library that provides basic CRUD operations for Dapper, similar to Dapper.Contrib, but with some additional features, such as support for composite keys, enums, and SQL builders³.\n",
    "* **Dapper.Rainbow**: A library that provides a lightweight database abstraction layer on top of Dapper, inspired by the Massive ORM. It allows you to perform CRUD operations, as well as query, join, and paginate data using a fluent API⁴.\n",
    "* **Dapper.Mapper**: A library that extends the IDbConnection and IDbTransaction interfaces to provide support for multiple result sets. It allows you to map the results of a stored procedure or a SQL query to multiple objects in a single round trip to the database.\n",
    "\n",
    "These are some of the popular Dapper extensions that can enhance your Dapper experience. If you want to learn more about them, you can check out some of the web search results I found for you, such as:\n",
    "\n",
    "* [Dapper Extensions - Getting Started | dapper-extensions Tutorial](https://riptutorial.com/dapper-extensions/learn/100000/getting-started)\n",
    "* [DapperExtensions - A Getting Started Tutorial for CRUD Operations](https://dappertutorial.net/dapper-extensions)\n",
    "* [GitHub - tmsmith/Dapper-Extensions: Dapper Extensions is a small ...](https://github.com/tmsmith/Dapper-Extensions)"
   ]
  }
 ],
 "metadata": {
  "kernelspec": {
   "display_name": ".NET (C#)",
   "language": "C#",
   "name": ".net-csharp"
  },
  "language_info": {
   "name": "polyglot-notebook"
  },
  "polyglot_notebook": {
   "kernelInfo": {
    "defaultKernelName": "csharp",
    "items": [
     {
      "aliases": [],
      "name": "csharp"
     }
    ]
   }
  }
 },
 "nbformat": 4,
 "nbformat_minor": 2
}
