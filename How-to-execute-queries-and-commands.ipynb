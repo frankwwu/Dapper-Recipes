{
 "cells": [
  {
   "cell_type": "markdown",
   "metadata": {},
   "source": [
    "# How to execute queries and commands"
   ]
  },
  {
   "cell_type": "markdown",
   "metadata": {},
   "source": [
    "To execute queries and commands with C# and Dapper, you need to do the following steps:\n",
    "* Install the Dapper NuGet package in thr C# project.\n",
    "* Create a connection string to the AdventureWorks2022 database.\n",
    "* Use the Dapper extension methods to execute queries and commands on the database. Depending on the type of operation you want to perform, you can use one of the following methods:"
   ]
  },
  {
   "cell_type": "code",
   "execution_count": 1,
   "metadata": {
    "dotnet_interactive": {
     "language": "csharp"
    },
    "polyglot_notebook": {
     "kernelName": "csharp"
    }
   },
   "outputs": [],
   "source": [
    "// Connection string\n",
    "#load \"AppSettings.cs\""
   ]
  },
  {
   "cell_type": "markdown",
   "metadata": {},
   "source": [
    "1. <code>Query</code>: This method executes a SQL query and returns the data as a list of objects. You can specify the type of object you want to map the data to, or use dynamic objects if you don't have a predefined model class. You can also pass parameters to the query using an anonymous object or a dictionary. For example, you can use this code to execute a query that returns a list of products with a name that contains a given keyword:"
   ]
  },
  {
   "cell_type": "code",
   "execution_count": 2,
   "metadata": {
    "dotnet_interactive": {
     "language": "csharp"
    },
    "polyglot_notebook": {
     "kernelName": "csharp"
    }
   },
   "outputs": [],
   "source": [
    "public class Product\n",
    "{   \n",
    "    public int ProductID { get; set; }\n",
    "    public string Name { get; set; }\n",
    "    public string ProductNumber { get; set; }\n",
    "    public string Color { get; set; }\n",
    "    public decimal StandardCost { get; set; }\n",
    "    public decimal ListPrice { get; set; }\n",
    "    public string Size { get; set; }\n",
    "    public decimal? Weight { get; set; }\n",
    "    public int? ProductCategoryID { get; set; }\n",
    "    public int? ProductModelID { get; set; }\n",
    "    public DateTime SellStartDate { get; set; }\n",
    "    public DateTime? SellEndDate { get; set; }\n",
    "    public DateTime? DiscontinuedDate { get; set; }\n",
    "    public byte[] ThumbNailPhoto { get; set; }\n",
    "    public string ThumbnailPhotoFileName { get; set; }\n",
    "    public Guid rowguid { get; set; }\n",
    "    public DateTime ModifiedDate { get; set; }\n",
    "}\n"
   ]
  },
  {
   "cell_type": "code",
   "execution_count": 3,
   "metadata": {
    "dotnet_interactive": {
     "language": "csharp"
    },
    "polyglot_notebook": {
     "kernelName": "csharp"
    }
   },
   "outputs": [
    {
     "data": {
      "text/html": [
       "<div><div></div><div></div><div><strong>Installed Packages</strong><ul><li><span>Dapper, 2.1.28</span></li><li><span>Microsoft.Data.SqlClient, 5.1.2</span></li></ul></div></div>"
      ]
     },
     "metadata": {},
     "output_type": "display_data"
    },
    {
     "name": "stdout",
     "output_type": "stream",
     "text": [
      "All-Purpose Bike Stand -  - 59.4660 - 159.0000\n",
      "Bike Helmet-1612 - Red - 15.5000 - 34.9900\n",
      "Bike Helmet-1895 - Red - 15.5000 - 34.9900\n",
      "Bike Helmet-2288 - Red - 15.5000 - 34.9900\n",
      "Bike Helmet-3293 - Red - 15.5000 - 34.9900\n",
      "Bike Helmet-3353 - Red - 15.5000 - 34.9900\n",
      "Bike Helmet-3590 - Red - 15.5000 - 34.9900\n",
      "Bike Helmet-4048 - Red - 15.5000 - 34.9900\n",
      "Bike Helmet-4583 - Red - 15.5000 - 34.9900\n",
      "Bike Helmet-5068 - Red - 15.5000 - 34.9900\n",
      "Bike Helmet-5093 - Red - 15.5000 - 34.9900\n",
      "Bike Helmet-5504 - Red - 15.5000 - 34.9900\n",
      "Bike Helmet-5620 - Red - 15.5000 - 34.9900\n",
      "Bike Helmet-5705 - Red - 15.5000 - 34.9900\n",
      "Bike Helmet-5819 - Red - 15.5000 - 34.9900\n",
      "Bike Helmet-6177 - Red - 15.5000 - 34.9900\n",
      "Bike Helmet-7143 - Red - 15.5000 - 34.9900\n",
      "Bike Helmet-7288 - Red - 15.5000 - 34.9900\n",
      "Bike Helmet-7936 - Red - 15.5000 - 34.9900\n",
      "Bike Helmet-7972 - Red - 15.5000 - 34.9900\n",
      "Bike Helmet-7982 - Red - 15.5000 - 34.9900\n",
      "Bike Helmet-8121 - Red - 15.5000 - 34.9900\n",
      "Bike Helmet-8551 - Red - 15.5000 - 34.9900\n",
      "Bike Helmet-8957 - Red - 15.5000 - 34.9900\n",
      "Bike Helmet-9108 - Red - 15.5000 - 34.9900\n",
      "Bike Helmet-9524 - Red - 15.5000 - 34.9900\n",
      "Bike Wash - Dissolver -  - 2.9733 - 7.9500\n",
      "Hitch Rack - 4-Bike -  - 44.8800 - 120.0000\n",
      "Mountain Bike Socks, L - White - 3.3963 - 9.5000\n",
      "Mountain Bike Socks, M - White - 3.3963 - 9.5000\n"
     ]
    }
   ],
   "source": [
    "#r \"nuget:Dapper\"\n",
    "#r \"nuget:Microsoft.Data.SqlClient\"\n",
    "\n",
    "using Dapper;\n",
    "using Microsoft.Data.SqlClient;\n",
    "using System.Data;\n",
    "\n",
    "using (var connection = new SqlConnection(connectionString))\n",
    "{\n",
    "    var products = connection.Query<Product>(\n",
    "        \"SELECT * FROM Production.Product WHERE Name LIKE @Keyword\",\n",
    "        new { Keyword = \"%Bike%\" }\n",
    "    );\n",
    "    foreach (Product product in products)\n",
    "    {\n",
    "        Console.WriteLine($\"{product.Name} - {product.Color} - {product.StandardCost} - {product.ListPrice}\");\n",
    "    }\n",
    "}"
   ]
  },
  {
   "cell_type": "markdown",
   "metadata": {},
   "source": [
    "2. <code>QueryAsync</code>: This method is the asynchronous version of the Query method. It returns a Task that you can await to get the list of objects. For example, you can use this code to execute the same query as above asynchronously:"
   ]
  },
  {
   "cell_type": "code",
   "execution_count": 4,
   "metadata": {
    "dotnet_interactive": {
     "language": "csharp"
    },
    "polyglot_notebook": {
     "kernelName": "csharp"
    }
   },
   "outputs": [
    {
     "name": "stdout",
     "output_type": "stream",
     "text": [
      "Bike Helmet-1612 - Red - 15.5000 - 34.9900\n",
      "Bike Helmet-1895 - Red - 15.5000 - 34.9900\n",
      "Bike Helmet-2288 - Red - 15.5000 - 34.9900\n",
      "Bike Helmet-3293 - Red - 15.5000 - 34.9900\n",
      "Bike Helmet-3353 - Red - 15.5000 - 34.9900\n",
      "Bike Helmet-3590 - Red - 15.5000 - 34.9900\n",
      "Bike Helmet-4048 - Red - 15.5000 - 34.9900\n",
      "Bike Helmet-4583 - Red - 15.5000 - 34.9900\n",
      "Bike Helmet-5068 - Red - 15.5000 - 34.9900\n",
      "Bike Helmet-5093 - Red - 15.5000 - 34.9900\n",
      "Bike Helmet-5504 - Red - 15.5000 - 34.9900\n",
      "Bike Helmet-5620 - Red - 15.5000 - 34.9900\n",
      "Bike Helmet-5705 - Red - 15.5000 - 34.9900\n",
      "Bike Helmet-5819 - Red - 15.5000 - 34.9900\n",
      "Bike Helmet-6177 - Red - 15.5000 - 34.9900\n",
      "Bike Helmet-7143 - Red - 15.5000 - 34.9900\n",
      "Bike Helmet-7288 - Red - 15.5000 - 34.9900\n",
      "Bike Helmet-7936 - Red - 15.5000 - 34.9900\n",
      "Bike Helmet-7972 - Red - 15.5000 - 34.9900\n",
      "Bike Helmet-7982 - Red - 15.5000 - 34.9900\n",
      "Bike Helmet-8121 - Red - 15.5000 - 34.9900\n",
      "Bike Helmet-8551 - Red - 15.5000 - 34.9900\n",
      "Bike Helmet-8957 - Red - 15.5000 - 34.9900\n",
      "Bike Helmet-9108 - Red - 15.5000 - 34.9900\n",
      "Bike Helmet-9524 - Red - 15.5000 - 34.9900\n",
      "Sport-100 Helmet, Black - Black - 13.0863 - 34.9900\n",
      "Sport-100 Helmet, Blue - Blue - 13.0863 - 34.9900\n",
      "Sport-100 Helmet, Red - Red - 13.0863 - 34.9900\n"
     ]
    }
   ],
   "source": [
    "using (var connection = new SqlConnection(connectionString))\n",
    "{\n",
    "    var products = await connection.QueryAsync<Product>(\n",
    "        \"SELECT * FROM Production.Product WHERE Name LIKE @Keyword\",\n",
    "        new { Keyword = \"%Helmet%\" }\n",
    "    );\n",
    "    foreach (Product product in products)\n",
    "    {\n",
    "        Console.WriteLine($\"{product.Name} - {product.Color} - {product.StandardCost} - {product.ListPrice}\");\n",
    "    }\n",
    "}"
   ]
  },
  {
   "cell_type": "markdown",
   "metadata": {},
   "source": [
    "3. <code>Execute</code>: This method executes a SQL command that does not return any data, such as an <code>INSERT</code>, <code>UPDATE</code>, or <code>DELETE</code> statement. It returns the number of rows affected by the command. You can also pass parameters to the command using an anonymous object or a dictionary. For example, you can use this code to execute a command that inserts a new product into the database:"
   ]
  },
  {
   "cell_type": "code",
   "execution_count": 5,
   "metadata": {
    "dotnet_interactive": {
     "language": "csharp"
    },
    "polyglot_notebook": {
     "kernelName": "csharp"
    }
   },
   "outputs": [
    {
     "name": "stdout",
     "output_type": "stream",
     "text": [
      "1\r\n"
     ]
    }
   ],
   "source": [
    "const string chars = \"0123456789\";\n",
    "Random random = new Random();\n",
    "string cardNumber = new string(Enumerable.Repeat(chars, 16).Select(s => s[random.Next(s.Length)]).ToArray());\n",
    "\n",
    "using (var connection = new SqlConnection(connectionString))\n",
    "{\n",
    "    var rowsAffected = connection.Execute(\n",
    "        \"INSERT INTO Sales.CreditCard (CardType, CardNumber, ExpMonth, ExpYear, ModifiedDate) VALUES (@CardType, @CardNumber, @ExpMonth, @ExpYear, @ModifiedDate)\",\n",
    "        new { CardType = \"Master\", CardNumber = cardNumber, ExpMonth = 12, ExpYear = 2050, ModifiedDate = DateTime.Now }\n",
    "    );\n",
    "    Console.WriteLine($\"{rowsAffected}\");\n",
    "}"
   ]
  },
  {
   "cell_type": "markdown",
   "metadata": {},
   "source": [
    "4. <code>ExecuteAsync</code>: This method is the asynchronous version of the Execute method. It returns a Task that you can await to get the number of rows affected by the command. For example, you can use this code to execute the same command as above asynchronously:"
   ]
  },
  {
   "cell_type": "code",
   "execution_count": 6,
   "metadata": {
    "dotnet_interactive": {
     "language": "csharp"
    },
    "polyglot_notebook": {
     "kernelName": "csharp"
    }
   },
   "outputs": [
    {
     "name": "stdout",
     "output_type": "stream",
     "text": [
      "1\r\n"
     ]
    }
   ],
   "source": [
    "string cardNumber = new string(Enumerable.Repeat(chars, 16).Select(s => s[random.Next(s.Length)]).ToArray());\n",
    "\n",
    "using (var connection = new SqlConnection(connectionString))\n",
    "{\n",
    "    var rowsAffected = await connection.ExecuteAsync(\n",
    "         \"INSERT INTO Sales.CreditCard (CardType, CardNumber, ExpMonth, ExpYear, ModifiedDate) VALUES (@CardType, @CardNumber, @ExpMonth, @ExpYear, @ModifiedDate)\",\n",
    "        new { CardType = \"Master\", CardNumber = cardNumber, ExpMonth = 12, ExpYear = 2050, ModifiedDate = DateTime.Now }\n",
    "    );\n",
    "    Console.WriteLine($\"{rowsAffected}\");\n",
    "}"
   ]
  },
  {
   "cell_type": "markdown",
   "metadata": {},
   "source": [
    "5. <code>ExecuteScalar</code>: This method executes a SQL command that returns a single value, such as a <code>SELECT</code> statement that returns the count of rows or the sum of a column. It returns the value as an object that you can cast to the appropriate type. You can also pass parameters to the command using an anonymous object or a dictionary. For example, you can use this code to execute a command that returns the total number of products in the database:"
   ]
  },
  {
   "cell_type": "code",
   "execution_count": 7,
   "metadata": {
    "dotnet_interactive": {
     "language": "csharp"
    },
    "polyglot_notebook": {
     "kernelName": "csharp"
    }
   },
   "outputs": [
    {
     "name": "stdout",
     "output_type": "stream",
     "text": [
      "565\r\n"
     ]
    }
   ],
   "source": [
    "using (var connection = new SqlConnection(connectionString))\n",
    "{\n",
    "    var productCount = (int)connection.ExecuteScalar(\n",
    "        \"SELECT COUNT(*) FROM Production.Product\"\n",
    "    );\n",
    "    Console.WriteLine($\"{productCount}\");\n",
    "}"
   ]
  },
  {
   "cell_type": "markdown",
   "metadata": {},
   "source": [
    "6. <code>ExecuteScalarAsync</code>: This method is the asynchronous version of the <code>ExecuteScalar</code> method. It returns a Task that you can await to get the value as an object. For example, you can use this code to execute the same command as above asynchronously:"
   ]
  },
  {
   "cell_type": "code",
   "execution_count": 8,
   "metadata": {
    "dotnet_interactive": {
     "language": "csharp"
    },
    "polyglot_notebook": {
     "kernelName": "csharp"
    }
   },
   "outputs": [
    {
     "name": "stdout",
     "output_type": "stream",
     "text": [
      "565\r\n"
     ]
    }
   ],
   "source": [
    "using (var connection = new SqlConnection(connectionString))\n",
    "{\n",
    "    var productCount = (int)await connection.ExecuteScalarAsync(\n",
    "        \"SELECT COUNT(*) FROM Production.Product\"\n",
    "    );\n",
    "    Console.WriteLine($\"{productCount}\");\n",
    "}"
   ]
  }
 ],
 "metadata": {
  "kernelspec": {
   "display_name": ".NET (C#)",
   "language": "C#",
   "name": ".net-csharp"
  },
  "language_info": {
   "name": "polyglot-notebook"
  },
  "polyglot_notebook": {
   "kernelInfo": {
    "defaultKernelName": "csharp",
    "items": [
     {
      "aliases": [],
      "name": "csharp"
     }
    ]
   }
  }
 },
 "nbformat": 4,
 "nbformat_minor": 2
}
