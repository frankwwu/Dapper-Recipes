{
 "cells": [
  {
   "cell_type": "markdown",
   "metadata": {},
   "source": [
    "# How to use multi-mapping and multiple results"
   ]
  },
  {
   "cell_type": "markdown",
   "metadata": {},
   "source": [
    "Multi-mapping is a feature of Dapper that allows you to map a single row from a SQL query to multiple objects in C#. This is useful when you have a query that joins multiple tables and you want to split the result into separate entities. For example, you can map a row that contains information about an order, a customer, and a store to three different classes: SalesOrderHeader, Customer, and Store.\n",
    "\n",
    "Multiple results is another feature of Dapper that allows you to execute multiple queries in a single SQL statement and map the results to multiple objects. This is useful when you want to select data from different tables or views with a single database query. For example, you can execute a stored procedure that returns two result sets: one for orders and one for customers, and map them to two collections of Order and Customer objects.\n",
    "\n",
    "To use multi-mapping and multiple results with C# and Dapper, you need to use the <code>QueryMultiple</code> method, which returns a <code>GridReader</code> object that can read multiple result sets. Then, you can use the <code>Read&lt;T&gt;</code> method with a custom mapping function to map each result set to a collection of objects. The mapping function takes two or more parameters that represent the objects to be mapped from the row, and returns a new object that combines them. For example, you can use a <code>Tuple</code> or an anonymous type to return a pair of objects.\n",
    "\n",
    "Here is an example of how to use multi-mapping and multiple results with C# and Dapper, using the SalesOrderHeader, Customer, and Store tables as an example. "
   ]
  },
  {
   "cell_type": "code",
   "execution_count": 1,
   "metadata": {
    "dotnet_interactive": {
     "language": "csharp"
    },
    "polyglot_notebook": {
     "kernelName": "csharp"
    }
   },
   "outputs": [],
   "source": [
    "// Connection string\n",
    "#load \"AppSettings.cs\""
   ]
  },
  {
   "cell_type": "code",
   "execution_count": 2,
   "metadata": {
    "dotnet_interactive": {
     "language": "csharp"
    },
    "polyglot_notebook": {
     "kernelName": "csharp"
    }
   },
   "outputs": [
    {
     "data": {
      "text/html": [
       "<div><div></div><div></div><div><strong>Installed Packages</strong><ul><li><span>Dapper, 2.1.28</span></li><li><span>Microsoft.Data.SqlClient, 5.1.2</span></li><li><span>System.ComponentModel, 4.3.0</span></li></ul></div></div>"
      ]
     },
     "metadata": {},
     "output_type": "display_data"
    }
   ],
   "source": [
    "#r \"nuget:Microsoft.Data.SqlClient\"\n",
    "#r \"nuget:System.ComponentModel\"\n",
    "#r \"nuget:Dapper\"\n",
    "\n",
    "using Dapper;\n",
    "using Microsoft.Data.SqlClient;\n",
    "using System.Collections.Generic;\n",
    "using System.Data;"
   ]
  },
  {
   "cell_type": "code",
   "execution_count": 3,
   "metadata": {
    "dotnet_interactive": {
     "language": "csharp"
    },
    "polyglot_notebook": {
     "kernelName": "csharp"
    }
   },
   "outputs": [],
   "source": [
    "public class SalesOrderHeader\n",
    "{   \n",
    "    public int SalesOrderID { get; set; }\n",
    "    public int CustomerID { get; set; }   \n",
    "    public float SubTotal { get; set; }    \n",
    "}\n",
    "\n",
    "public class Customer\n",
    "{   \n",
    "    public int CustomerID { get; set; } \n",
    "    public string AccountNumber { get; set; }\n",
    "}\n",
    "\n",
    "public class Store\n",
    "{  \n",
    "    public int BusinessEntityID { get; set; }\n",
    "    public string Name { get; set; }   \n",
    "}"
   ]
  },
  {
   "cell_type": "code",
   "execution_count": 4,
   "metadata": {
    "dotnet_interactive": {
     "language": "csharp"
    },
    "polyglot_notebook": {
     "kernelName": "csharp"
    }
   },
   "outputs": [
    {
     "name": "stdout",
     "output_type": "stream",
     "text": [
      "Sales Order ID: 56975, SubTotal: 14.98, Customer ID: 14363, Account Number: AW00014363\n",
      "Sales Order ID: 68696, SubTotal: 38.88, Customer ID: 14363, Account Number: AW00014363\n",
      "Sales Order ID: 70978, SubTotal: 138.48, Customer ID: 14363, Account Number: AW00014363\n",
      "Customer ID: 573, Store ID: 300, Name: Nationwide Supply\n",
      "Customer ID: 29488, Store ID: 300, Name: Nationwide Supply\n"
     ]
    }
   ],
   "source": [
    "using (var connection = new SqlConnection(connectionString))\n",
    "{\n",
    "    string query = @\"\n",
    "        SELECT o.*, c.* FROM Sales.SalesOrderHeader o\n",
    "        INNER JOIN Sales.Customer c ON o.CustomerID = c.CustomerID\n",
    "        WHERE o.OrderDate > '2011-05-31' AND o.CreditCardID = 19234;\n",
    "\n",
    "        SELECT c.*, s.* FROM Sales.Customer c\n",
    "        INNER JOIN Sales.Store s ON  s.BusinessEntityID= c.StoreID \n",
    "        WHERE c.StoreID = 300\n",
    "    \";\n",
    "\n",
    "    // Execute the query and get a GridReader object\n",
    "    using (var gridReader = connection.QueryMultiple(query))\n",
    "    {\n",
    "        // Read the first result set and map each row to a SalesOrderHeader and a Customer object\n",
    "        var ordersAndCustomers = gridReader.Read<SalesOrderHeader, Customer, Tuple<SalesOrderHeader, Customer>>(\n",
    "            (order, customer) => Tuple.Create(order, customer),\n",
    "            splitOn: \"CustomerID\"\n",
    "        );\n",
    "\n",
    "        // Read the second result set and map each row to a Customer and a Store object\n",
    "        var customersAndStores = gridReader.Read<Customer, Store, Tuple<Customer, Store>>(\n",
    "            (customer, store) => Tuple.Create(customer, store),\n",
    "            splitOn: \"StoreID\"\n",
    "        );\n",
    "\n",
    "        // Do something with the results\n",
    "        foreach (var pair in ordersAndCustomers)\n",
    "        {\n",
    "            Console.WriteLine($\"Sales Order ID: {pair.Item1.SalesOrderID}, SubTotal: {pair.Item1.SubTotal}, Customer ID: {pair.Item2.CustomerID}, Account Number: {pair.Item2.AccountNumber}\");\n",
    "        }\n",
    "\n",
    "        foreach (var pair in customersAndStores)\n",
    "        {\n",
    "            Console.WriteLine($\"Customer ID: {pair.Item1.CustomerID}, Store ID: {pair.Item2.BusinessEntityID}, Name: {pair.Item2.Name}\");\n",
    "        }\n",
    "    }\n",
    "}"
   ]
  }
 ],
 "metadata": {
  "kernelspec": {
   "display_name": ".NET (C#)",
   "language": "C#",
   "name": ".net-csharp"
  },
  "language_info": {
   "name": "polyglot-notebook"
  },
  "polyglot_notebook": {
   "kernelInfo": {
    "defaultKernelName": "csharp",
    "items": [
     {
      "aliases": [],
      "name": "csharp"
     }
    ]
   }
  }
 },
 "nbformat": 4,
 "nbformat_minor": 2
}
