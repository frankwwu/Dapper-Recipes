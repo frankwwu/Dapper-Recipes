{
 "cells": [
  {
   "cell_type": "markdown",
   "metadata": {},
   "source": [
    "# How to run multiple queries simultaneously and bind the result"
   ]
  },
  {
   "cell_type": "markdown",
   "metadata": {},
   "source": [
    "To run multiple queries simultaneously and bind the result with C# and Dapper, you can use the <code>QueryMultiple</code> method, which allows you to execute multiple SQL statements in one query and return a <code>GridReader</code> object that can map the results to multiple objects. You can also use the <code>QueryMultipleAsync</code> method for asynchronous execution.\n",
    "\n",
    "Here is a complete example using the AdventureWorks2022 database.\n"
   ]
  },
  {
   "cell_type": "code",
   "execution_count": 1,
   "metadata": {
    "dotnet_interactive": {
     "language": "csharp"
    },
    "polyglot_notebook": {
     "kernelName": "csharp"
    }
   },
   "outputs": [],
   "source": [
    "// Connection string\n",
    "#load \"AppSettings.cs\""
   ]
  },
  {
   "cell_type": "code",
   "execution_count": 2,
   "metadata": {
    "dotnet_interactive": {
     "language": "csharp"
    },
    "polyglot_notebook": {
     "kernelName": "csharp"
    }
   },
   "outputs": [],
   "source": [
    "class Product\n",
    "{\n",
    "    public int ProductID { get; set; }\n",
    "    public string Name { get; set; }    \n",
    "}\n",
    "\n",
    "class ProductReview\n",
    "{\n",
    "    public int ProductReviewID { get; set; }\n",
    "    public int ProductID { get; set; }\n",
    "    public string ReviewerName { get; set; }\n",
    "    public string EmailAddress { get; set; }\n",
    "    public string Comments { get; set; }\n",
    "}"
   ]
  },
  {
   "cell_type": "code",
   "execution_count": 3,
   "metadata": {
    "dotnet_interactive": {
     "language": "csharp"
    },
    "polyglot_notebook": {
     "kernelName": "csharp"
    }
   },
   "outputs": [
    {
     "data": {
      "text/html": [
       "<div><div></div><div></div><div><strong>Installed Packages</strong><ul><li><span>Dapper, 2.1.28</span></li><li><span>Microsoft.Data.SqlClient, 5.1.2</span></li></ul></div></div>"
      ]
     },
     "metadata": {},
     "output_type": "display_data"
    },
    {
     "name": "stdout",
     "output_type": "stream",
     "text": [
      "Product: HL Mountain Pedal\n",
      "Reviews: David, david@graphicdesigninstitute.com \n",
      "\t A little on the heavy side, but overall the entry/exit is easy in all conditions. I've used these pedals for \n",
      "more than 3 years and I've never had a problem. Cleanup is easy. Mud and sand don't get trapped. I would like \n",
      "them even better if there was a weight reduction. Maybe in the next design. Still, I would recommend them to a friend.\n",
      "Reviews: Jill, jill@margiestravel.com \n",
      "\t Maybe it's just because I'm new to mountain biking, but I had a terrible time getting use\n",
      "to these pedals. In my first outing, I wiped out trying to release my foot. Any suggestions on\n",
      "ways I can adjust the pedals, or is it just a learning curve thing?\n"
     ]
    }
   ],
   "source": [
    "#r \"nuget:Dapper\"\n",
    "#r \"nuget:Microsoft.Data.SqlClient\"\n",
    "using Microsoft.Data.SqlClient;\n",
    "using System.Data;\n",
    "using Dapper;\n",
    "\n",
    "// Define the SQL queries to run\n",
    "var sql = @\"SELECT * FROM Production.Product WHERE ProductID = @Id;\n",
    "            SELECT * FROM Production.ProductReview WHERE ProductID = @Id;\";\n",
    "\n",
    "// Define the parameters for the queries\n",
    "var parameters = new { Id = 937 };\n",
    "\n",
    "// Create a connection to the database\n",
    "using (var connection = new SqlConnection(connectionString))\n",
    "{\n",
    "    // Open the connection\n",
    "    await connection.OpenAsync();\n",
    "\n",
    "    // Execute the queries and get the GridReader object\n",
    "    using (var gridReader = await connection.QueryMultipleAsync(sql, parameters))\n",
    "    {\n",
    "        // Read the first result set as a Product object\n",
    "        var product = await gridReader.ReadSingleAsync<Product>();\n",
    "\n",
    "        // Read the second result set as a list of ProductReview objects\n",
    "        var reviews = await gridReader.ReadAsync<ProductReview>();\n",
    "\n",
    "        // Display the results\n",
    "        Console.WriteLine($\"Product: {product.Name}\");\n",
    "        foreach(var review in reviews)\n",
    "        {\n",
    "            Console.WriteLine($\"Reviews: {review.ReviewerName}, {review.EmailAddress} \\n\\t {review.Comments}\");\n",
    "        }\n",
    "    }\n",
    "}"
   ]
  }
 ],
 "metadata": {
  "kernelspec": {
   "display_name": ".NET (C#)",
   "language": "C#",
   "name": ".net-csharp"
  },
  "language_info": {
   "name": "polyglot-notebook"
  },
  "polyglot_notebook": {
   "kernelInfo": {
    "defaultKernelName": "csharp",
    "items": [
     {
      "aliases": [],
      "name": "csharp"
     }
    ]
   }
  }
 },
 "nbformat": 4,
 "nbformat_minor": 2
}
