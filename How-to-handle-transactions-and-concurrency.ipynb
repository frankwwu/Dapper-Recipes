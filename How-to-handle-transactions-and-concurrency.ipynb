{
 "cells": [
  {
   "cell_type": "markdown",
   "metadata": {},
   "source": [
    "# How to handle transactions and concurrency\n",
    "\n",
    "Handling transactions and concurrency with C# and Dapper is an important aspect of developing reliable and robust data access layers for your applications. Transactions allow you to group multiple operations into a single unit of work, and ensure that either all of them succeed or none of them do. Concurrency refers to the situation where multiple users or processes try to access or modify the same data at the same time, and how to resolve any conflicts or inconsistencies that may arise.\n",
    "\n",
    "To handle transactions and concurrency with C# and Dapper, you can use the following tips and best practices:\n",
    "\n",
    "* Use the <code>IDbConnection.BeginTransaction</code> method to start a new transaction, and use the <code>IDbTransaction.Commit</code> or <code>IDbTransaction.Rollback</code> methods to complete or cancel the transaction. You can pass the <code>IDbTransaction</code> object as a parameter to the Dapper methods, such as <code>Execute</code>, <code>Query</code>, or <code>QueryAsync</code>, to execute the operations within the transaction scope.\n",
    "* Use the <code>IsolationLevel</code> enumeration to specify the level of isolation for your transaction, which determines how the transaction interacts with other concurrent transactions. The higher the isolation level, the more locks are taken on the data, and the less concurrency issues occur, but the more performance overhead is incurred. The default isolation level for SQL Server is Read Committed, which means that the transaction cannot read data that has been modified but not committed by other transactions.\n",
    "* Use the <code>rowversion</code> data type to automatically generate a binary number that indicates the version of a row in a table. You can use this number to detect any changes made to the row by other transactions, and handle the concurrency conflicts accordingly. For example, you can use the rowversion value to compare the original and current values of the row, and decide whether to overwrite, merge, or reject the changes.\n",
    "* Use the <code>optimistic</code> or <code>pessimistic</code> concurrency control strategies to handle concurrency conflicts. Optimistic concurrency assumes that conflicts are rare, and allows multiple users to read and modify the same data without locking it. However, if a conflict occurs, the transaction that tries to commit the changes last will fail, and will have to retry or abort the operation. Pessimistic concurrency assumes that conflicts are frequent, and locks the data when a user reads or modifies it, preventing other users from accessing it until the transaction is completed. This avoids conflicts, but reduces the concurrency and performance of the system.\n",
    "\n",
    "To illustrate these tips and best practices, let’s take a look at an example of how to handle transactions and concurrency with C# and Dapper using the AdventureWorks2022 database. The AdventureWorks2022 database is a sample database that contains data about a fictional company that sells bicycles and related products. You can download the database from here.\n",
    "\n",
    "Let’s assume that we want to create a data access layer for the Product table, which contains information about the products that the company sells. The first step to handle transactions and concurrency with C# and Dapper is to create a C# class that represents the Product entity. This class will map the columns of the Product table to its properties. We can use the following code to create the Product class:\n"
   ]
  },
  {
   "cell_type": "code",
   "execution_count": 1,
   "metadata": {
    "dotnet_interactive": {
     "language": "csharp"
    },
    "polyglot_notebook": {
     "kernelName": "csharp"
    }
   },
   "outputs": [],
   "source": [
    "// Connection string\n",
    "#load \"AppSettings.cs\""
   ]
  },
  {
   "cell_type": "code",
   "execution_count": 2,
   "metadata": {
    "dotnet_interactive": {
     "language": "csharp"
    },
    "polyglot_notebook": {
     "kernelName": "csharp"
    }
   },
   "outputs": [
    {
     "data": {
      "text/html": [
       "<div><div></div><div></div><div><strong>Installed Packages</strong><ul><li><span>Dapper, 2.1.28</span></li><li><span>Microsoft.Data.SqlClient, 5.1.2</span></li></ul></div></div>"
      ]
     },
     "metadata": {},
     "output_type": "display_data"
    }
   ],
   "source": [
    "#r \"nuget:Microsoft.Data.SqlClient\"\n",
    "#r \"nuget:Dapper\"\n",
    "using Microsoft.Data.SqlClient;\n",
    "using System;\n",
    "\n",
    "// A class that represents the Product entity\n",
    "public class Product\n",
    "{\n",
    "    public int ProductID { get; set; }\n",
    "    public string Name { get; set; }\n",
    "    public string ProductNumber { get; set; }\n",
    "    public string Color { get; set; }\n",
    "    public decimal StandardCost { get; set; }\n",
    "    public decimal ListPrice { get; set; }\n",
    "    public string Size { get; set; }\n",
    "    public decimal? Weight { get; set; }\n",
    "    public int? ProductCategoryID { get; set; }\n",
    "    public int? ProductModelID { get; set; }\n",
    "    public DateTime SellStartDate { get; set; }\n",
    "    public DateTime? SellEndDate { get; set; }\n",
    "    public DateTime? DiscontinuedDate { get; set; }\n",
    "    public Guid rowguid { get; set; }\n",
    "    public DateTime ModifiedDate { get; set; }\n",
    "    public byte[] RowVersion { get; set; }\n",
    "}"
   ]
  },
  {
   "cell_type": "markdown",
   "metadata": {},
   "source": [
    "Notice how we use the <code>RowVersion</code> property to store the rowversion value of the row, which will help us detect any concurrency conflicts.\n",
    "\n",
    "The next step is to create an interface that defines the contract for the data access operations that we want to perform on the Product table. This interface will abstract the implementation details of the data access layer and will allow us to use dependency injection and unit testing. We can use the following code to create the IProductRepository interface:\n"
   ]
  },
  {
   "cell_type": "code",
   "execution_count": 3,
   "metadata": {
    "dotnet_interactive": {
     "language": "csharp"
    },
    "polyglot_notebook": {
     "kernelName": "csharp"
    }
   },
   "outputs": [],
   "source": [
    "using System.Collections.Generic;\n",
    "using System.Threading.Tasks;\n",
    "\n",
    "// An interface that defines the contract for the data access operations on the Product table\n",
    "public interface IProductRepository\n",
    "{    \n",
    "    Task<IEnumerable<Product>> GetAllProductsAsync();\n",
    "    Task<Product> GetProductByIdAsync(int productId);\n",
    "    Task<IEnumerable<Product>> GetProductsByCategoryIdAsync(int categoryId);\n",
    "    Task<IEnumerable<Product>> GetProductsByModelIdAsync(int modelId);\n",
    "    Task<int> AddProductAsync(Product product);\n",
    "    Task<int> UpdateProductAsync(Product product);\n",
    "    Task<int> DeleteProductAsync(int productId);\n",
    "}"
   ]
  },
  {
   "cell_type": "markdown",
   "metadata": {},
   "source": [
    "Notice how we use the <code>async</code> and <code>await</code> keywords to perform asynchronous data access operations, and we use the <code>Task&lt;T&gt;</code> type to return the results of the operations.\n",
    "\n",
    "The final step is to create a class that implements the <code>IProductRepository</code> interface and uses Dapper to execute the SQL queries and commands on the Product table. This class will contain the actual data access logic and will use Dapper’s extension methods, query builders, and custom mappers to simplify the code and reduce boilerplate code. We can use the following code to create the ProductRepository class:"
   ]
  },
  {
   "cell_type": "code",
   "execution_count": 4,
   "metadata": {
    "dotnet_interactive": {
     "language": "csharp"
    },
    "polyglot_notebook": {
     "kernelName": "csharp"
    }
   },
   "outputs": [],
   "source": [
    "using System.Collections.Generic;\n",
    "using System.Data;\n",
    "using System.Data.SqlClient;\n",
    "using System.Linq;\n",
    "using System.Threading.Tasks;\n",
    "using Dapper;\n",
    "\n",
    "// A class that implements the IProductRepository interface and uses Dapper to execute the SQL queries and commands on the Product table\n",
    "public class ProductRepository : IProductRepository\n",
    "{\n",
    "    // The connection string to the AdventureWorks2022 database\n",
    "    private readonly string _connectionString;\n",
    "\n",
    "    // The constructor that takes the connection string as a parameter\n",
    "    public ProductRepository(string connectionString)\n",
    "    {\n",
    "        _connectionString = connectionString;\n",
    "    }\n",
    "\n",
    "    // A method that returns all the products\n",
    "    public async Task<IEnumerable<Product>> GetAllProductsAsync()\n",
    "    {\n",
    "        // Create a SQL query to select all the products\n",
    "        var sql = @\"SELECT * FROM Production.Product\";\n",
    "\n",
    "        // Create a connection to the database\n",
    "        using (var connection = new SqlConnection(_connectionString))\n",
    "        {    \n",
    "            // Execute the query and return the results as a list of Product objects\n",
    "            return await connection.QueryAsync<Product>(sql);\n",
    "        }\n",
    "    }\n",
    "\n",
    "    // A method that returns a product by its ID\n",
    "    public async Task<Product> GetProductByIdAsync(int productId)\n",
    "    {\n",
    "        // Create a SQL query to select a product by its ID\n",
    "        var sql = @\"SELECT * FROM Production.Product WHERE ProductID = @ProductID\";\n",
    "\n",
    "        // Create a dynamic parameter object with the product ID\n",
    "        var parameters = new DynamicParameters();\n",
    "        parameters.Add(\"@ProductID\", productId);\n",
    "\n",
    "        // Create a connection to the database\n",
    "        using (var connection = new SqlConnection(_connectionString))\n",
    "        {            \n",
    "            // Execute the query and return the result as a Product object\n",
    "            return await connection.QueryFirstOrDefaultAsync<Product>(sql, parameters);\n",
    "        }\n",
    "    }\n",
    "\n",
    "    // A method that returns the products by their category ID\n",
    "    public async Task<IEnumerable<Product>> GetProductsByCategoryIdAsync(int categoryId)\n",
    "    {\n",
    "        // Create a SQL query to select the products by their category ID\n",
    "        var sql = @\"SELECT p.* FROM Production.Product p\n",
    "                    INNER JOIN Production.ProductCategory pc\n",
    "                    ON p.ProductCategoryID = pc.ProductCategoryID\n",
    "                    WHERE pc.ProductCategoryID = @ProductCategoryID\";\n",
    "\n",
    "        // Create a dynamic parameter object with the category ID\n",
    "        var parameters = new DynamicParameters();\n",
    "        parameters.Add(\"@ProductCategoryID\", categoryId);\n",
    "\n",
    "        // Create a connection to the database\n",
    "        using (var connection = new SqlConnection(_connectionString))\n",
    "        {         \n",
    "            // Execute the query and return the results as a list of Product objects\n",
    "            return await connection.QueryAsync<Product>(sql, parameters);\n",
    "        }\n",
    "    }\n",
    "\n",
    "    // A method that returns the products by their model ID\n",
    "    public async Task<IEnumerable<Product>> GetProductsByModelIdAsync(int modelId)\n",
    "    {\n",
    "        // Create a SQL query to select the products by their model ID\n",
    "        var sql = @\"SELECT p.* FROM Production.Product p\n",
    "                    INNER JOIN Production.ProductModel pm\n",
    "                    ON p.ProductModelID = pm.ProductModelID\n",
    "                    WHERE pm.ProductModelID = @ProductModelID\";\n",
    "\n",
    "        // Create a dynamic parameter object with the model ID\n",
    "        var parameters = new DynamicParameters();\n",
    "        parameters.Add(\"@ProductModelID\", modelId);\n",
    "\n",
    "        // Create a connection to the database\n",
    "        using (var connection = new SqlConnection(_connectionString))\n",
    "        {           \n",
    "            // Execute the query and return the results as a list of Product objects\n",
    "            return await connection.QueryAsync<Product>(sql, parameters);\n",
    "        }\n",
    "    }\n",
    "\n",
    "    // A method that adds a new product\n",
    "    public async Task<int> AddProductAsync(Product product)\n",
    "    {\n",
    "        // Create a SQL command to insert a new product\n",
    "        var sql = @\"INSERT INTO Production.Product\n",
    "                    (Name, ProductNumber, Color, StandardCost, ListPrice, Size, Weight, ProductCategoryID, ProductModelID, SellStartDate, SellEndDate, DiscontinuedDate, rowguid, ModifiedDate, RowVersion)\n",
    "                    VALUES\n",
    "                    (@Name, @ProductNumber, @Color, @StandardCost, @ListPrice, @Size, @Weight, @ProductCategoryID, @ProductModelID, @SellStartDate, @SellEndDate, @DiscontinuedDate, @rowguid, @ModifiedDate, DEFAULT);\n",
    "                    SELECT SCOPE_IDENTITY();\";\n",
    "\n",
    "        // Create a dynamic parameter object with the product properties\n",
    "        var parameters = new DynamicParameters();\n",
    "        parameters.Add(\"@Name\", product.Name);\n",
    "        parameters.Add(\"@ProductNumber\", product.ProductNumber);\n",
    "        parameters.Add(\"@Color\", product.Color);\n",
    "        parameters.Add(\"@StandardCost\", product.StandardCost);\n",
    "        parameters.Add(\"@ListPrice\", product.ListPrice);\n",
    "        parameters.Add(\"@Size\", product.Size);\n",
    "        parameters.Add(\"@Weight\", product.Weight);\n",
    "        parameters.Add(\"@ProductCategoryID\", product.ProductCategoryID);\n",
    "        parameters.Add(\"@ProductModelID\", product.ProductModelID);\n",
    "        parameters.Add(\"@SellStartDate\", product.SellStartDate);\n",
    "        parameters.Add(\"@SellEndDate\", product.SellEndDate);\n",
    "        parameters.Add(\"@DiscontinuedDate\", product.DiscontinuedDate);\n",
    "        parameters.Add(\"@rowguid\", product.rowguid);\n",
    "        parameters.Add(\"@ModifiedDate\", product.ModifiedDate);\n",
    "\n",
    "        // Create a connection to the database\n",
    "        using (var connection = new SqlConnection(_connectionString))\n",
    "        {           \n",
    "            // Execute the command and return the result as the new product ID\n",
    "            return await connection.ExecuteScalarAsync<int>(sql, parameters);\n",
    "        }\n",
    "    }\n",
    "\n",
    "    // A method that updates an existing product\n",
    "    public async Task<int> UpdateProductAsync(Product product)\n",
    "    {\n",
    "        // Create a SQL command to update an existing product\n",
    "        var sql = @\"UPDATE Production.Product\n",
    "                    SET Name = @Name,\n",
    "                    ProductNumber = @ProductNumber,\n",
    "                    Color = @Color,\n",
    "                    StandardCost = @StandardCost,\n",
    "                    ListPrice = @ListPrice,\n",
    "                    Size = @Size,\n",
    "                    Weight = @Weight,\n",
    "                    ProductCategoryID = @ProductCategoryID,\n",
    "                    ProductModelID = @ProductModelID,\n",
    "                    SellStartDate = @SellStartDate,\n",
    "                    SellEndDate = @SellEndDate,\n",
    "                    DiscontinuedDate = @DiscontinuedDate,\n",
    "                    rowguid = @rowguid,\n",
    "                    ModifiedDate = @ModifiedDate\n",
    "                    WHERE ProductID = @ProductID AND RowVersion = @RowVersion\";\n",
    "\n",
    "        // Create a dynamic parameter object with the product properties\n",
    "        var parameters = new DynamicParameters();\n",
    "        parameters.Add(\"@ProductID\", product.ProductID);\n",
    "        parameters.Add(\"@Name\", product.Name);\n",
    "        parameters.Add(\"@ProductNumber\", product.ProductNumber);\n",
    "        parameters.Add(\"@Color\", product.Color);\n",
    "        parameters.Add(\"@StandardCost\", product.StandardCost);\n",
    "        parameters.Add(\"@ListPrice\", product.ListPrice);\n",
    "        parameters.Add(\"@Size\", product.Size);\n",
    "        parameters.Add(\"@Weight\", product.Weight);\n",
    "        parameters.Add(\"@ProductCategoryID\", product.ProductCategoryID);\n",
    "        parameters.Add(\"@ProductModelID\", product.ProductModelID);\n",
    "        parameters.Add(\"@SellStartDate\", product.SellStartDate);\n",
    "        parameters.Add(\"@SellEndDate\", product.SellEndDate);\n",
    "        parameters.Add(\"@DiscontinuedDate\", product.DiscontinuedDate);\n",
    "        parameters.Add(\"@rowguid\", product.rowguid);\n",
    "        parameters.Add(\"@ModifiedDate\", product.ModifiedDate);\n",
    "        parameters.Add(\"@RowVersion\", product.RowVersion);\n",
    "\n",
    "        // Create a connection to the database\n",
    "        using (var connection = new SqlConnection(_connectionString))\n",
    "        {           \n",
    "            // Execute the command and return the result as the number of affected rows\n",
    "            return await connection.ExecuteAsync(sql, parameters);\n",
    "        }\n",
    "    }\n",
    "\n",
    "    // A method that deletes an existing product\n",
    "    public async Task<int> DeleteProductAsync(int productId)\n",
    "    {\n",
    "        // Create a SQL command to delete an existing product\n",
    "        var sql = @\"DELETE FROM Production.Product WHERE ProductID = @ProductID\";\n",
    "\n",
    "        // Create a dynamic parameter object with the product ID\n",
    "        var parameters = new DynamicParameters();\n",
    "        parameters.Add(\"@ProductID\", productId);\n",
    "\n",
    "        // Create a connection to the database\n",
    "        using (var connection = new SqlConnection(_connectionString))\n",
    "        {           \n",
    "            // Execute the command and return the result as the number of affected rows\n",
    "            return await connection.ExecuteAsync(sql, parameters);\n",
    "        }\n",
    "    }\n",
    "}"
   ]
  },
  {
   "cell_type": "markdown",
   "metadata": {},
   "source": [
    "Notice how we use the <code>RowVersion</code> property to check for concurrency conflicts in the <code>UpdateProductAsync</code> method. We use the <code>WHERE</code> clause to compare the <code>RowVersion</code> value of the product with the value stored in the database. If they are not equal, it means that another transaction has modified the product, and the update will fail. We can handle this exception in the calling code and notify the user accordingly."
   ]
  }
 ],
 "metadata": {
  "kernelspec": {
   "display_name": ".NET (C#)",
   "language": "C#",
   "name": ".net-csharp"
  },
  "language_info": {
   "name": "polyglot-notebook"
  },
  "polyglot_notebook": {
   "kernelInfo": {
    "defaultKernelName": "csharp",
    "items": [
     {
      "aliases": [],
      "name": "csharp"
     }
    ]
   }
  }
 },
 "nbformat": 4,
 "nbformat_minor": 2
}
