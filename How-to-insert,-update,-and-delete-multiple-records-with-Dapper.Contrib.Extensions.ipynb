{
 "cells": [
  {
   "cell_type": "markdown",
   "metadata": {},
   "source": [
    "# How to insert, update, and delete multiple records with Dapper.Contrib.Extensions\n",
    "\n",
    "Dapper.Contrib.Extensions is a library that extends the <code>IDbConnection</code> interface with methods for CRUD operations on your entities. You can use these methods to insert, update, and delete data from a database using C# and Dapper. To use Dapper.Contrib, you need to add attributes like <code>[Table]</code> and <code>[Key]</code> to your entity class, Product. These attributes indicate the table name and the primary key. Then you can pass the Product object to the appropriate method, and Dapper.Contrib will create the SQL query for you. For example:"
   ]
  },
  {
   "cell_type": "code",
   "execution_count": 1,
   "metadata": {
    "dotnet_interactive": {
     "language": "csharp"
    },
    "polyglot_notebook": {
     "kernelName": "csharp"
    }
   },
   "outputs": [],
   "source": [
    "// Connection string\n",
    "#load \"AppSettings.cs\""
   ]
  },
  {
   "cell_type": "code",
   "execution_count": 2,
   "metadata": {
    "dotnet_interactive": {
     "language": "csharp"
    },
    "polyglot_notebook": {
     "kernelName": "csharp"
    }
   },
   "outputs": [
    {
     "data": {
      "text/html": [
       "<div><div></div><div></div><div><strong>Installed Packages</strong><ul><li><span>Dapper, 2.1.24</span></li><li><span>Dapper.Contrib, 2.0.78</span></li><li><span>Microsoft.Data.SqlClient, 5.1.2</span></li><li><span>System.ComponentModel, 4.3.0</span></li></ul></div></div>"
      ]
     },
     "metadata": {},
     "output_type": "display_data"
    }
   ],
   "source": [
    "#r \"nuget:Microsoft.Data.SqlClient\"\n",
    "#r \"nuget:System.ComponentModel\"\n",
    "#r \"nuget:Dapper\"\n",
    "#r \"nuget:Dapper.Contrib\"\n",
    "\n",
    "using Microsoft.Data.SqlClient;\n",
    "using System;\n",
    "using System.Collections.Generic;\n",
    "using System.Data;\n",
    "using Dapper;\n",
    "using Dapper.Contrib.Extensions;"
   ]
  },
  {
   "cell_type": "markdown",
   "metadata": {},
   "source": [
    "You need to decorate your entity class with the [Table] attribute and specify the name of the table in the database. For example, if you have a Product class that corresponds to the Production.Product table in the AdventureWorks2022 database, you can write:"
   ]
  },
  {
   "cell_type": "code",
   "execution_count": 3,
   "metadata": {
    "dotnet_interactive": {
     "language": "csharp"
    },
    "polyglot_notebook": {
     "kernelName": "csharp"
    }
   },
   "outputs": [],
   "source": [
    "[Table(\"Production.Product\")]\n",
    "public class Product\n",
    "{    \n",
    "    [Key]\n",
    "    public int ProductID { get; set; }\n",
    "    public string Name { get; set; }\n",
    "    public string ProductNumber { get; set; }\n",
    "    public string Color { get; set; }\n",
    "    public decimal StandardCost { get; set; }\n",
    "    public decimal ListPrice { get; set; }\n",
    "    public int SafetyStockLevel { get; set; }\n",
    "    public int ReorderPoint { get; set; }\n",
    "    public int DaysToManufacture { get; set; }\n",
    "    public DateTime SellStartDate { get; set; }\n",
    "}"
   ]
  },
  {
   "cell_type": "markdown",
   "metadata": {},
   "source": [
    "To insert new records into the Production.Product table:"
   ]
  },
  {
   "cell_type": "code",
   "execution_count": 4,
   "metadata": {
    "dotnet_interactive": {
     "language": "csharp"
    },
    "polyglot_notebook": {
     "kernelName": "csharp"
    }
   },
   "outputs": [
    {
     "name": "stdout",
     "output_type": "stream",
     "text": [
      "1170, Gloves-7640, GL-H01-4875, Black, 5.0000, 9.9900\n",
      "1169, Bike Helmet-1205, BK-H01-6413, Red, 15.5000, 34.9900\n"
     ]
    }
   ],
   "source": [
    "var rand = new Random();\n",
    "var productsToInsert = new List<Product>()\n",
    "{\n",
    "    new Product() { Name = \"Bike Helmet-\" + rand.Next(1000, 9999), ProductNumber = \"BK-H01-\" + rand.Next(1000, 9999), Color = \"Red\", StandardCost = 15.50m, ListPrice = 34.99m, \n",
    "                    SafetyStockLevel = 999, ReorderPoint = 777, DaysToManufacture = 1, SellStartDate = new DateTime(2000, 1, 2) },    \n",
    "    new Product() { Name = \"Gloves-\" + rand.Next(1000, 9999), ProductNumber = \"GL-H01-\" + rand.Next(1000, 9999), Color = \"Black\", StandardCost = 5.00m, ListPrice = 9.99m, \n",
    "                    SafetyStockLevel = 999, ReorderPoint = 777, DaysToManufacture = 1, SellStartDate = new DateTime(2000, 1, 2) }\n",
    "};\n",
    "\n",
    "List<Product> newPoducts;\n",
    "long count;\n",
    "using (var connection = new SqlConnection(connectionString))\n",
    "{\n",
    "    connection.Open();\n",
    "    count = connection.Insert(productsToInsert);\n",
    "\n",
    "    // Query the Product table and display the results   \n",
    "    newPoducts = connection.Query<Product>($\"SELECT top {count} * FROM Production.Product order by ProductID desc\").ToList();\n",
    "\n",
    "    foreach (var product in newPoducts)\n",
    "    {\n",
    "        Console.WriteLine($\"{product.ProductID}, {product.Name}, {product.ProductNumber}, {product.Color}, {product.StandardCost}, {product.ListPrice}\");\n",
    "    }\n",
    "}"
   ]
  },
  {
   "cell_type": "markdown",
   "metadata": {},
   "source": [
    "To update the above records:"
   ]
  },
  {
   "cell_type": "code",
   "execution_count": 5,
   "metadata": {
    "dotnet_interactive": {
     "language": "csharp"
    },
    "polyglot_notebook": {
     "kernelName": "csharp"
    }
   },
   "outputs": [
    {
     "name": "stdout",
     "output_type": "stream",
     "text": [
      "1170, Adjustable Race-5633, AR-2159, Silver, 300.0000, 400.0000, 555, 0, 12/23/2023 6:01:07 PM\n",
      "1169, BB Ball Bearing-5069, BE-9471, Silver, 0.7500, 1.4900, 555, 0, 12/23/2023 6:01:07 PM\n"
     ]
    }
   ],
   "source": [
    "var productsToUpdate = new List<Product>()\n",
    "{\n",
    "    new Product() { ProductID = newPoducts[0].ProductID, Name = \"Adjustable Race-\" + rand.Next(1000, 9999), ProductNumber = \"AR-\" + rand.Next(1000, 9999), \n",
    "                    Color = \"Silver\", StandardCost = 300.00m, ListPrice = 400.00m, SafetyStockLevel = 555, ReorderPoint = 747, DaysToManufacture = 0, \n",
    "                    SellStartDate = DateTime.Now },   \n",
    "    new Product() { ProductID = newPoducts[1].ProductID, Name = \"BB Ball Bearing-\" + rand.Next(1000, 9999), ProductNumber = \"BE-\" + rand.Next(1000, 9999), \n",
    "                    Color = \"Silver\", StandardCost = 0.75m, ListPrice = 1.49m, SafetyStockLevel = 555, ReorderPoint = 747, DaysToManufacture = 0, \n",
    "                    SellStartDate = DateTime.Now }\n",
    "};\n",
    "\n",
    "using (var connection = new SqlConnection(connectionString))\n",
    "{\n",
    "    connection.Open();\n",
    "    connection.Update(productsToUpdate);\n",
    "\n",
    "    // Query the Product table and display the results   \n",
    "    foreach(Product product in productsToUpdate)                    \n",
    "    {\n",
    "        Product p = connection.Get<Product>(product.ProductID);\n",
    "        Console.WriteLine($\"{p.ProductID}, {p.Name}, {p.ProductNumber}, {p.Color}, {p.StandardCost}, {p.ListPrice}, {p.SafetyStockLevel}, {p.DaysToManufacture}, {p.SellStartDate}\");\n",
    "    } \n",
    "}"
   ]
  },
  {
   "cell_type": "markdown",
   "metadata": {},
   "source": [
    "To delete the above records:"
   ]
  },
  {
   "cell_type": "code",
   "execution_count": 6,
   "metadata": {
    "dotnet_interactive": {
     "language": "csharp"
    },
    "polyglot_notebook": {
     "kernelName": "csharp"
    }
   },
   "outputs": [
    {
     "name": "stdout",
     "output_type": "stream",
     "text": [
      "True\n",
      "True\n"
     ]
    }
   ],
   "source": [
    "using (var connection = new SqlConnection(connectionString))\n",
    "{\n",
    "    connection.Open();\n",
    "    connection.Delete(newPoducts);\n",
    "\n",
    "    // Query the Product table and display the results, which have been deleted already.    \n",
    "    var sql = $@\"SELECT ProductID, Name, ProductNumber, Color, StandardCost, ListPrice, SafetyStockLevel, DaysToManufacture, SellStartDate\n",
    "                        FROM Production.Product\n",
    "                        WHERE ProductID = @ProductID\";\n",
    "\n",
    "   foreach(Product product in productsToUpdate)                    \n",
    "    {\n",
    "        Product p = connection.Get<Product>(product.ProductID);        \n",
    "        Console.WriteLine(p == null);\n",
    "    } \n",
    "}\n"
   ]
  }
 ],
 "metadata": {
  "kernelspec": {
   "display_name": ".NET (C#)",
   "language": "C#",
   "name": ".net-csharp"
  },
  "language_info": {
   "name": "polyglot-notebook"
  },
  "polyglot_notebook": {
   "kernelInfo": {
    "defaultKernelName": "csharp",
    "items": [
     {
      "aliases": [],
      "name": "csharp"
     }
    ]
   }
  }
 },
 "nbformat": 4,
 "nbformat_minor": 2
}
