{
 "cells": [
  {
   "cell_type": "markdown",
   "metadata": {},
   "source": [
    "# How to filter and sort data"
   ]
  },
  {
   "cell_type": "markdown",
   "metadata": {},
   "source": [
    "To filter and sort data using Dapper, you need to write a SQL query that specifies the conditions and the order by clause, and then pass it to the <code>Query</code> or <code>QueryAsync</code> method of Dapper, along with any parameters that you want to use. For example, if you want to filter the products by their name and category, and sort them by their list price, you can use the following code:"
   ]
  },
  {
   "cell_type": "code",
   "execution_count": 1,
   "metadata": {
    "dotnet_interactive": {
     "language": "csharp"
    },
    "polyglot_notebook": {
     "kernelName": "csharp"
    }
   },
   "outputs": [],
   "source": [
    "// Connection string\n",
    "#load \"AppSettings.cs\""
   ]
  },
  {
   "cell_type": "code",
   "execution_count": 2,
   "metadata": {
    "dotnet_interactive": {
     "language": "csharp"
    },
    "polyglot_notebook": {
     "kernelName": "csharp"
    }
   },
   "outputs": [
    {
     "data": {
      "text/html": [
       "<div><div></div><div></div><div><strong>Installed Packages</strong><ul><li><span>Dapper, 2.1.24</span></li><li><span>Microsoft.Data.SqlClient, 5.1.2</span></li></ul></div></div>"
      ]
     },
     "metadata": {},
     "output_type": "display_data"
    }
   ],
   "source": [
    "#r \"nuget:Microsoft.Data.SqlClient\"\n",
    "#r \"nuget:Dapper\"\n",
    "\n",
    "using Dapper;\n",
    "using Microsoft.Data.SqlClient;\n",
    "using System.Data;"
   ]
  },
  {
   "cell_type": "code",
   "execution_count": 3,
   "metadata": {
    "dotnet_interactive": {
     "language": "csharp"
    },
    "polyglot_notebook": {
     "kernelName": "csharp"
    }
   },
   "outputs": [],
   "source": [
    "public class Product\n",
    "{    \n",
    "    public int ProductID { get; set; }\n",
    "    public string Name { get; set; }\n",
    "    public string ProductNumber { get; set; }\n",
    "    public string Color { get; set; }\n",
    "    public decimal StandardCost { get; set; }\n",
    "    public decimal ListPrice { get; set; }\n",
    "    public int SafetyStockLevel { get; set; }\n",
    "    public int ReorderPoint { get; set; }\n",
    "    public int DaysToManufacture { get; set; }\n",
    "    public DateTime SellStartDate { get; set; }\n",
    "    public string ProductCategoryName { get; set; }\n",
    "}"
   ]
  },
  {
   "cell_type": "code",
   "execution_count": 4,
   "metadata": {
    "dotnet_interactive": {
     "language": "csharp"
    },
    "polyglot_notebook": {
     "kernelName": "csharp"
    }
   },
   "outputs": [
    {
     "name": "stdout",
     "output_type": "stream",
     "text": [
      "Product ID: 775, Name: Mountain-100 Black, 38, Category: Bikes, ListPrice: 3374.9900\n",
      "Product ID: 776, Name: Mountain-100 Black, 42, Category: Bikes, ListPrice: 3374.9900\n",
      "Product ID: 777, Name: Mountain-100 Black, 44, Category: Bikes, ListPrice: 3374.9900\n",
      "Product ID: 778, Name: Mountain-100 Black, 48, Category: Bikes, ListPrice: 3374.9900\n",
      "Product ID: 771, Name: Mountain-100 Silver, 38, Category: Bikes, ListPrice: 3399.9900\n",
      "Product ID: 772, Name: Mountain-100 Silver, 42, Category: Bikes, ListPrice: 3399.9900\n",
      "Product ID: 773, Name: Mountain-100 Silver, 44, Category: Bikes, ListPrice: 3399.9900\n",
      "Product ID: 774, Name: Mountain-100 Silver, 48, Category: Bikes, ListPrice: 3399.9900\n"
     ]
    }
   ],
   "source": [
    "using (var connection = new SqlConnection(connectionString))\n",
    "{\n",
    "    // Open the connection\n",
    "    connection.Open();\n",
    "\n",
    "    var sql = @\"SELECT p.ProductID, p.Name, p.ListPrice, pc.Name AS ProductCategoryName\n",
    "                       FROM Production.Product p\n",
    "                       JOIN Production.ProductSubcategory ps ON p.ProductSubcategoryID = ps.ProductSubcategoryID\n",
    "                       JOIN Production.ProductCategory pc ON ps.ProductCategoryID = pc.ProductCategoryID\n",
    "                       WHERE p.Name LIKE @ProductName AND pc.Name = @ProductCategoryName AND p.ListPrice > = @ListPrice\n",
    "                       ORDER BY p.ListPrice\";\n",
    "\n",
    "    // Define the parameters to use in the query\n",
    "    var parameters = new { ProductName = \"%Mountain%\", ProductCategoryName = \"Bikes\", ListPrice = 3000 };\n",
    "    // Execute the query asynchronously and map the results to a list of Product objects\n",
    "    var products = await connection.QueryAsync<Product>(sql, parameters);\n",
    "\n",
    "    // Display the results\n",
    "    foreach (var product in products)\n",
    "    {\n",
    "        Console.WriteLine($\"Product ID: {product.ProductID}, Name: {product.Name}, Category: {product.ProductCategoryName}, ListPrice: {product.ListPrice}\");\n",
    "    }            \n",
    "}"
   ]
  }
 ],
 "metadata": {
  "kernelspec": {
   "display_name": ".NET (C#)",
   "language": "C#",
   "name": ".net-csharp"
  },
  "language_info": {
   "name": "polyglot-notebook"
  },
  "polyglot_notebook": {
   "kernelInfo": {
    "defaultKernelName": "csharp",
    "items": [
     {
      "aliases": [],
      "name": "csharp"
     }
    ]
   }
  }
 },
 "nbformat": 4,
 "nbformat_minor": 2
}
