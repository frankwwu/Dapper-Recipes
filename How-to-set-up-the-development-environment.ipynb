{
 "cells": [
  {
   "cell_type": "markdown",
   "metadata": {},
   "source": [
    "# How to set up the development environment\n",
    "\n",
    "In the GitHub repository of __Dapper Recipes__, each recipe is a C# Jupyter notebook that can be run with Visual Studio Code. You don’t need to create any tables or stored procedures in the database because the AdventureWorks2022 sample database is used. The SQL Server connection string is specified in AppSettings.cs and each recipe will use it.\n",
    "\n",
    "To set up the development environment for __Dapper Recipes__ using C# Jupyter notebooks and AdventureWorks2022 database, you will need the following tools and configuration:\n",
    "\n",
    "* .NET SDK for Visual Studio: All recipes can be run with .NET 8, but does not use any .NET 8 specific features.\n",
    "* Visual Studio Code: This is a tool to edit and run C# Jupyter notebooks, etc.\n",
    "* C# Dev Kit extension: This is an extension for VS Code that provides features such as IntelliSense, debugging, testing, and refactoring for C#.\n",
    "* SQL Server:\n",
    "* AdventureWorks2022: This is a sample database that contains data about a fictional company. You can download it from [here](https://github.com/Microsoft/sql-server-samples/releases/download/adventureworks/AdventureWorks2022.bak).\n",
    "* Dapper Recipes: The repositiry of the source code.\n",
    "* SQL Server connection string: You need to edit the SQL Server connection string in [AppSettings.cs](AppSettings.cs) based on your database server. \n",
    "\n",
    "You can now open a Jupyter notebook .ipynb file with Visual Studio Code. When you open a Jupyter notebook for the first time, you may be prompted to install certain VS Code extensions that are related to its functionality.\n"
   ]
  }
 ],
 "metadata": {
  "kernelspec": {
   "display_name": ".NET (C#)",
   "language": "C#",
   "name": ".net-csharp"
  },
  "language_info": {
   "name": "polyglot-notebook"
  },
  "polyglot_notebook": {
   "kernelInfo": {
    "defaultKernelName": "csharp",
    "items": [
     {
      "aliases": [],
      "name": "csharp"
     }
    ]
   }
  }
 },
 "nbformat": 4,
 "nbformat_minor": 2
}
