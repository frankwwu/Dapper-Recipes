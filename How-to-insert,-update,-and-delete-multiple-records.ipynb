{
 "cells": [
  {
   "cell_type": "markdown",
   "metadata": {},
   "source": [
    "# How to insert, update, and delete multiple records\n",
    "\n",
    "To perform insert, update, and delete operations with multiple records on a database, you can use the <code>Execute</code> or <code>ExecuteAsync</code> methods of Dapper to run SQL statements or stored procedures with parameters. These methods return the number of affected rows by the operation. You can also use the <code>Query</code> or <code>QueryAsync</code> methods of Dapper to get the values from the inserted, updated, or deleted rows, by using clauses such as OUTPUT in your SQL statements. For example:\n",
    "\n"
   ]
  },
  {
   "cell_type": "code",
   "execution_count": 7,
   "metadata": {
    "dotnet_interactive": {
     "language": "csharp"
    },
    "polyglot_notebook": {
     "kernelName": "csharp"
    }
   },
   "outputs": [],
   "source": [
    "// Connection string\n",
    "#load \"AppSettings.cs\""
   ]
  },
  {
   "cell_type": "code",
   "execution_count": 8,
   "metadata": {
    "dotnet_interactive": {
     "language": "csharp"
    },
    "polyglot_notebook": {
     "kernelName": "csharp"
    }
   },
   "outputs": [
    {
     "data": {
      "text/html": [
       "<div><div></div><div></div><div><strong>Installed Packages</strong><ul><li><span>Dapper, 2.1.24</span></li><li><span>Microsoft.Data.SqlClient, 5.1.2</span></li><li><span>System.ComponentModel, 4.3.0</span></li></ul></div></div>"
      ]
     },
     "metadata": {},
     "output_type": "display_data"
    }
   ],
   "source": [
    "#r \"nuget:Microsoft.Data.SqlClient\"\n",
    "#r \"nuget:System.ComponentModel\"\n",
    "#r \"nuget:Dapper\""
   ]
  },
  {
   "cell_type": "code",
   "execution_count": 9,
   "metadata": {
    "dotnet_interactive": {
     "language": "csharp"
    },
    "polyglot_notebook": {
     "kernelName": "csharp"
    }
   },
   "outputs": [],
   "source": [
    "using Microsoft.Data.SqlClient;\n",
    "using System;\n",
    "using System.Collections.Generic;\n",
    "using System.Data;\n",
    "using Dapper;\n",
    "\n",
    "public class Product\n",
    "{    \n",
    "    public int ProductID { get; set; }\n",
    "    public string Name { get; set; }\n",
    "    public string ProductNumber { get; set; }\n",
    "    public string Color { get; set; }\n",
    "    public decimal StandardCost { get; set; }\n",
    "    public decimal ListPrice { get; set; }\n",
    "    public int SafetyStockLevel { get; set; }\n",
    "    public int ReorderPoint { get; set; }\n",
    "    public int DaysToManufacture { get; set; }\n",
    "    public DateTime SellStartDate { get; set; }\n",
    "}"
   ]
  },
  {
   "cell_type": "markdown",
   "metadata": {},
   "source": [
    "To insert new records into the Person.Person table, you can use the following code:"
   ]
  },
  {
   "cell_type": "code",
   "execution_count": 10,
   "metadata": {
    "dotnet_interactive": {
     "language": "csharp"
    },
    "polyglot_notebook": {
     "kernelName": "csharp"
    }
   },
   "outputs": [
    {
     "name": "stdout",
     "output_type": "stream",
     "text": [
      "1086, Gloves-7588, GL-H01-2388, Black, 5.0000, 9.9900\n",
      "1085, Bike Helmet-3249, BK-H01-3371, Red, 15.5000, 34.9900\n"
     ]
    }
   ],
   "source": [
    "var rand = new Random();\n",
    "var productsToInsert = new List<Product>()\n",
    "{\n",
    "    new Product() { Name = \"Bike Helmet-\" + rand.Next(1000, 9999), ProductNumber = \"BK-H01-\" + rand.Next(1000, 9999), Color = \"Red\", StandardCost = 15.50m, ListPrice = 34.99m, \n",
    "                    SafetyStockLevel = 999, ReorderPoint = 777, DaysToManufacture = 1, SellStartDate = new DateTime(2000, 1, 2) },    \n",
    "    new Product() { Name = \"Gloves-\" + rand.Next(1000, 9999), ProductNumber = \"GL-H01-\" + rand.Next(1000, 9999), Color = \"Black\", StandardCost = 5.00m, ListPrice = 9.99m, \n",
    "                    SafetyStockLevel = 999, ReorderPoint = 777, DaysToManufacture = 1, SellStartDate = new DateTime(2000, 1, 2) }\n",
    "};\n",
    "\n",
    "List<Product> newPoducts;\n",
    "using (var connection = new SqlConnection(connectionString))\n",
    "{\n",
    "    connection.Open();\n",
    "    string sqlQuery = \"INSERT INTO Production.Product (Name, ProductNumber, Color, StandardCost, ListPrice, SafetyStockLevel, ReorderPoint, DaysToManufacture, SellStartDate) VALUES (@Name, @ProductNumber, @Color, @StandardCost, @ListPrice, @SafetyStockLevel, @ReorderPoint, @DaysToManufacture, @SellStartDate)\";\n",
    "    connection.Execute(sqlQuery, productsToInsert);\n",
    "\n",
    "    // Query the Product table and display the results   \n",
    "    newPoducts = connection.Query<Product>(\"SELECT top 2 * FROM Production.Product order by ProductID desc\").ToList();\n",
    "\n",
    "    foreach (var product in newPoducts)\n",
    "    {\n",
    "        Console.WriteLine($\"{product.ProductID}, {product.Name}, {product.ProductNumber}, {product.Color}, {product.StandardCost}, {product.ListPrice}\");\n",
    "    }\n",
    "}"
   ]
  },
  {
   "cell_type": "markdown",
   "metadata": {},
   "source": [
    "To update records into the above table:"
   ]
  },
  {
   "cell_type": "code",
   "execution_count": 11,
   "metadata": {
    "dotnet_interactive": {
     "language": "csharp"
    },
    "polyglot_notebook": {
     "kernelName": "csharp"
    }
   },
   "outputs": [
    {
     "name": "stdout",
     "output_type": "stream",
     "text": [
      "1086, Adjustable Race-7782, AR-8998, Silver, 300.0000, 400.0000\n",
      "1085, BB Ball Bearing-6630, BE-5702, Silver, 0.7500, 1.4900\n"
     ]
    }
   ],
   "source": [
    "var productsToUpdate = new List<Product>()\n",
    "{\n",
    "    new Product() { ProductID = newPoducts[0].ProductID, Name = \"Adjustable Race-\" + rand.Next(1000, 9999), ProductNumber = \"AR-\" + rand.Next(1000, 9999), Color = \"Silver\", StandardCost = 300.00m, ListPrice = 400.00m,\n",
    "                    SafetyStockLevel = 555, ReorderPoint = 747, DaysToManufacture = 0, SellStartDate = DateTime.Now },   \n",
    "    new Product() { ProductID = newPoducts[1].ProductID, Name = \"BB Ball Bearing-\" + rand.Next(1000, 9999), ProductNumber = \"BE-\" + rand.Next(1000, 9999), Color = \"Silver\", StandardCost = 0.75m, ListPrice = 1.49m,\n",
    "                    SafetyStockLevel = 555, ReorderPoint = 747, DaysToManufacture = 0, SellStartDate = DateTime.Now  }\n",
    "};\n",
    "\n",
    "using (var connection = new SqlConnection(connectionString))\n",
    "{\n",
    "    connection.Open();\n",
    "    string sqlQuery = \"UPDATE Production.Product SET Name = @Name, ProductNumber = @ProductNumber, Color = @Color, StandardCost = @StandardCost, ListPrice = @ListPrice, SafetyStockLevel = @SafetyStockLevel, ReorderPoint = @ReorderPoint, DaysToManufacture = @DaysToManufacture, SellStartDate = @SellStartDate WHERE ProductID = @ProductID\";\n",
    "    connection.Execute(sqlQuery, productsToUpdate);\n",
    "\n",
    "    // Query the Product table and display the results   \n",
    "    newPoducts = connection.Query<Product>(\"SELECT top 2 * FROM Production.Product order by ProductID desc\").ToList();\n",
    "\n",
    "    foreach (var product in newPoducts)\n",
    "    {\n",
    "        Console.WriteLine($\"{product.ProductID}, {product.Name}, {product.ProductNumber}, {product.Color}, {product.StandardCost}, {product.ListPrice}\");\n",
    "    }\n",
    "}"
   ]
  },
  {
   "cell_type": "markdown",
   "metadata": {},
   "source": [
    "To delete above records from the above table:"
   ]
  },
  {
   "cell_type": "code",
   "execution_count": 12,
   "metadata": {
    "dotnet_interactive": {
     "language": "csharp"
    },
    "polyglot_notebook": {
     "kernelName": "csharp"
    }
   },
   "outputs": [
    {
     "name": "stdout",
     "output_type": "stream",
     "text": [
      "1070, Gloves-6630, GL-H01-4672, Black, 5.0000, 9.9900\n",
      "1069, Bike Helmet-5504, BK-H01-9840, Red, 15.5000, 34.9900\n"
     ]
    }
   ],
   "source": [
    "using (var connection = new SqlConnection(connectionString))\n",
    "{\n",
    "    connection.Open();\n",
    "    string sqlQuery = \"DELETE FROM Production.Product WHERE ProductID IN @Ids\";\n",
    "    connection.Execute(sqlQuery, new { Ids = newPoducts.Select(s => s.ProductID).ToArray() });\n",
    "\n",
    "    // Query the Product table and display the results\n",
    "    var products = connection.Query<Product>(\"SELECT TOP 2 * FROM Production.Product order by ProductID desc\").ToList();\n",
    "    foreach (var product in products)\n",
    "    {\n",
    "        Console.WriteLine($\"{product.ProductID}, {product.Name}, {product.ProductNumber}, {product.Color}, {product.StandardCost}, {product.ListPrice}\");\n",
    "    }\n",
    "}\n"
   ]
  },
  {
   "cell_type": "markdown",
   "metadata": {},
   "source": [
    "Using Dapper’s <code>Query</code> and <code>Execute</code> method with parameters is a simple and convenient way to insert, update, and delete one or a list of objects, as it handles the mapping of the object properties to the SQL parameters automatically. However, this approach executes multiple INSERT statements sequentially for multiple objects, which can be slow and inefficient for large data sets. This approach also requires writing the SQL query manually, which can be prone to errors or typos.\n",
    "\n",
    "If you need to work with a small or moderate amount of data occasionally, and you want to get the list of ids easily, you may prefer this approach. However, if you need to work with a large amount of data frequently, and you want to optimize the performance and network usage, you may prefer the bulk operations with <code>BulkInsert</code>, <code>BulkUpdate</code>, and <code>BulkDelete</code> classes.\n"
   ]
  }
 ],
 "metadata": {
  "kernelspec": {
   "display_name": ".NET (C#)",
   "language": "C#",
   "name": ".net-csharp"
  },
  "language_info": {
   "name": "polyglot-notebook"
  },
  "polyglot_notebook": {
   "kernelInfo": {
    "defaultKernelName": "csharp",
    "items": [
     {
      "aliases": [],
      "name": "csharp"
     }
    ]
   }
  }
 },
 "nbformat": 4,
 "nbformat_minor": 2
}
