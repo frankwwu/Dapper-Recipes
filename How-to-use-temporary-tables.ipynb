{
 "cells": [
  {
   "cell_type": "markdown",
   "metadata": {},
   "source": [
    "# How to use temporary tables"
   ]
  },
  {
   "cell_type": "markdown",
   "metadata": {},
   "source": [
    "Temporary tables are a useful feature in SQL that allow you to store data in a temporary table that is only visible to the current session and is automatically dropped when the session ends. You can use temporary tables with C# and Dapper by following these steps:\n",
    "\n",
    "* Create a temporary table using the <code>CREATE TABLE</code> statement with a # prefix for the table name. For example, <code>CREATE TABLE #Temp (ListInt int)</code>.\n",
    "* Insert data into the temporary table using the <code>INSERT INTO</code> statement with the same table name. For example, <code>INSERT INTO #Temp (ListInt) VALUES (1)</code>.\n",
    "* Query data from the temporary table using the <code>SELECT</code> statement with the same table name. For example, <code>SELECT * FROM #Temp</code>.\n",
    "* Close the connection when you are done with the temporary table. The table will be automatically dropped.\n",
    "\n",
    "Here is an example of how to use a temporary table with C# and Dapper:"
   ]
  },
  {
   "cell_type": "code",
   "execution_count": 1,
   "metadata": {
    "dotnet_interactive": {
     "language": "csharp"
    },
    "polyglot_notebook": {
     "kernelName": "csharp"
    }
   },
   "outputs": [],
   "source": [
    "// Connection string\n",
    "#load \"AppSettings.cs\""
   ]
  },
  {
   "cell_type": "code",
   "execution_count": 2,
   "metadata": {
    "dotnet_interactive": {
     "language": "csharp"
    },
    "polyglot_notebook": {
     "kernelName": "csharp"
    }
   },
   "outputs": [
    {
     "data": {
      "text/html": [
       "<div><div></div><div></div><div><strong>Installed Packages</strong><ul><li><span>Dapper, 2.1.28</span></li><li><span>Microsoft.Data.SqlClient, 5.1.4</span></li></ul></div></div>"
      ]
     },
     "metadata": {},
     "output_type": "display_data"
    }
   ],
   "source": [
    "#r \"nuget:Dapper\"\n",
    "#r \"nuget:Microsoft.Data.SqlClient\"\n",
    "\n",
    "using Dapper;\n",
    "using Microsoft.Data.SqlClient;\n",
    "using System.Data;"
   ]
  },
  {
   "cell_type": "code",
   "execution_count": 3,
   "metadata": {
    "dotnet_interactive": {
     "language": "csharp"
    },
    "polyglot_notebook": {
     "kernelName": "csharp"
    }
   },
   "outputs": [
    {
     "name": "stdout",
     "output_type": "stream",
     "text": [
      "1\n",
      "2\n",
      "3\n",
      "4\n",
      "9\n"
     ]
    }
   ],
   "source": [
    "using (var connection = new SqlConnection(connectionString))\n",
    "{\n",
    "    connection.Open();\n",
    "\n",
    "    // Create a temporary table\n",
    "    connection.Execute(\"CREATE TABLE #Temp (ListInt int)\");   \n",
    " \n",
    "    // Insert some data into the temporary table\n",
    "    List<int> list = new List<int> {1, 2, 3, 4};\n",
    "    connection.Execute(@\"INSERT INTO #Temp (ListInt) VALUES (@item)\", list.Select(x => new { item = x }));\n",
    "    connection.Execute(@\"INSERT INTO #Temp(ListInt) VALUES (9);\");\n",
    "\n",
    "    // Query data from the temporary table\n",
    "    var result = connection.Query<int>(\"SELECT * FROM #Temp\");\n",
    "    \n",
    "    foreach (var item in result)\n",
    "    {\n",
    "        Console.WriteLine(item);\n",
    "    }\n",
    "}"
   ]
  }
 ],
 "metadata": {
  "kernelspec": {
   "display_name": ".NET (C#)",
   "language": "C#",
   "name": ".net-csharp"
  },
  "language_info": {
   "name": "polyglot-notebook"
  },
  "polyglot_notebook": {
   "kernelInfo": {
    "defaultKernelName": "csharp",
    "items": [
     {
      "aliases": [],
      "name": "csharp"
     }
    ]
   }
  }
 },
 "nbformat": 4,
 "nbformat_minor": 2
}
