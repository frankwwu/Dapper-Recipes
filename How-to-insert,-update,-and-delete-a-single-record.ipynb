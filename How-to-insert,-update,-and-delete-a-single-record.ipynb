{
 "cells": [
  {
   "cell_type": "markdown",
   "metadata": {},
   "source": [
    "# How to insert, update, and delete a single record\n",
    "\n",
    "To perform insert, update, and delete operations for a single record on a database using C# and Dapper, you can use the <code>Execute</code> or <code>ExecuteAsync</code> methods of Dapper to run SQL statements or stored procedures with parameters. These methods return the number of affected rows by the operation. You can also use the <code>Query</code> or <code>QueryAsync</code> methods of Dapper to get the values from the inserted, updated, or deleted rows, by using clauses such as OUTPUT in your SQL statements. For example:\n",
    "\n"
   ]
  },
  {
   "cell_type": "code",
   "execution_count": 7,
   "metadata": {
    "dotnet_interactive": {
     "language": "csharp"
    },
    "polyglot_notebook": {
     "kernelName": "csharp"
    }
   },
   "outputs": [],
   "source": [
    "// Connection string\n",
    "#load \"AppSettings.cs\""
   ]
  },
  {
   "cell_type": "code",
   "execution_count": 8,
   "metadata": {
    "dotnet_interactive": {
     "language": "csharp"
    },
    "polyglot_notebook": {
     "kernelName": "csharp"
    }
   },
   "outputs": [
    {
     "data": {
      "text/html": [
       "<div><div></div><div></div><div><strong>Installed Packages</strong><ul><li><span>Dapper, 2.1.24</span></li><li><span>Microsoft.Data.SqlClient, 5.1.2</span></li><li><span>System.ComponentModel, 4.3.0</span></li></ul></div></div>"
      ]
     },
     "metadata": {},
     "output_type": "display_data"
    }
   ],
   "source": [
    "#r \"nuget:Microsoft.Data.SqlClient\"\n",
    "#r \"nuget:System.ComponentModel\"\n",
    "#r \"nuget:Dapper\""
   ]
  },
  {
   "cell_type": "code",
   "execution_count": 9,
   "metadata": {
    "dotnet_interactive": {
     "language": "csharp"
    },
    "polyglot_notebook": {
     "kernelName": "csharp"
    }
   },
   "outputs": [],
   "source": [
    "using Microsoft.Data.SqlClient;\n",
    "using System;\n",
    "using System.Data;\n",
    "using Dapper;\n",
    "\n",
    "public class Product\n",
    "{    \n",
    "    public int ProductID { get; set; }\n",
    "    public string Name { get; set; }\n",
    "    public string ProductNumber { get; set; }\n",
    "    public string Color { get; set; }\n",
    "    public decimal StandardCost { get; set; }\n",
    "    public decimal ListPrice { get; set; }\n",
    "    public int SafetyStockLevel { get; set; }\n",
    "    public int ReorderPoint { get; set; }\n",
    "    public int DaysToManufacture { get; set; }\n",
    "    public DateTime SellStartDate { get; set; }\n",
    "}"
   ]
  },
  {
   "cell_type": "markdown",
   "metadata": {},
   "source": [
    "To insert a new record into the Person.Person table, you can use the following code:"
   ]
  },
  {
   "cell_type": "code",
   "execution_count": 10,
   "metadata": {
    "dotnet_interactive": {
     "language": "csharp"
    },
    "polyglot_notebook": {
     "kernelName": "csharp"
    }
   },
   "outputs": [
    {
     "name": "stdout",
     "output_type": "stream",
     "text": [
      "1098\r\n"
     ]
    }
   ],
   "source": [
    "var rand = new Random();\n",
    "\n",
    "var product = new Product() { Name = \"Bike Helmet-\" + rand.Next(1000, 9999), ProductNumber = \"BK-H01-\" + rand.Next(1000, 9999), Color = \"Red\", \n",
    "                              StandardCost = 15.50m, ListPrice = 34.99m, SafetyStockLevel = 999, ReorderPoint = 111, DaysToManufacture = 1, \n",
    "                              SellStartDate = new DateTime(2000, 1, 2) };\n",
    "\n",
    "int productID = 0;\n",
    "using (var connection = new SqlConnection(connectionString))\n",
    "{\n",
    "    // Build the SQL query with parameters\n",
    "    var sql = $@\"INSERT INTO Production.Product (Name, ProductNumber, Color, StandardCost, ListPrice, SafetyStockLevel, ReorderPoint, \n",
    "                 DaysToManufacture, SellStartDate) OUTPUT INSERTED.ProductID \n",
    "                 VALUES (@Name, @ProductNumber, @Color, @StandardCost, @ListPrice, @SafetyStockLevel, @ReorderPoint, @DaysToManufacture, @SellStartDate) \";\n",
    "\n",
    "    // Execute the query and get the id\n",
    "    var ids = await connection.QueryAsync<int>(sql, product);\n",
    "\n",
    "    // Print the ids\n",
    "    productID = ids.FirstOrDefault<int>();\n",
    "    Console.WriteLine(productID);\n",
    "}"
   ]
  },
  {
   "cell_type": "markdown",
   "metadata": {},
   "source": [
    "To update the above record:"
   ]
  },
  {
   "cell_type": "code",
   "execution_count": 11,
   "metadata": {
    "dotnet_interactive": {
     "language": "csharp"
    },
    "polyglot_notebook": {
     "kernelName": "csharp"
    }
   },
   "outputs": [
    {
     "name": "stdout",
     "output_type": "stream",
     "text": [
      "1\r\n"
     ]
    }
   ],
   "source": [
    "var product = new Product() { ProductID = productID, Name = \"Bearing Ball-\" + rand.Next(1000, 9999), ProductNumber = \"BA-\" + rand.Next(1000, 9999), Color = \"Black\", \n",
    "                              StandardCost = 0.50m, ListPrice = 0.99m, SafetyStockLevel = 555, ReorderPoint = 747, DaysToManufacture = 0, SellStartDate = DateTime.Now };\n",
    "\n",
    "using (var connection = new SqlConnection(connectionString))\n",
    "{\n",
    "    // Build the SQL query with parameters\n",
    "    var sql = $@\"UPDATE Production.Product SET Name = @Name, ProductNumber = @ProductNumber, Color = @Color, StandardCost = @StandardCost, \n",
    "                 ListPrice = @ListPrice, SafetyStockLevel = @SafetyStockLevel, ReorderPoint = @ReorderPoint, DaysToManufacture = @DaysToManufacture, \n",
    "                 SellStartDate = @SellStartDate WHERE ProductID = @ProductID\";\n",
    "\n",
    "    // Execute the query and get the number of affected rows\n",
    "    var rows = await connection.ExecuteAsync(sql, product);\n",
    "\n",
    "    // Print the rows\n",
    "    Console.WriteLine(rows);\n",
    "}"
   ]
  },
  {
   "cell_type": "markdown",
   "metadata": {},
   "source": [
    "To delete the above record:"
   ]
  },
  {
   "cell_type": "code",
   "execution_count": 12,
   "metadata": {
    "dotnet_interactive": {
     "language": "csharp"
    },
    "polyglot_notebook": {
     "kernelName": "csharp"
    }
   },
   "outputs": [
    {
     "name": "stdout",
     "output_type": "stream",
     "text": [
      "1\r\n"
     ]
    }
   ],
   "source": [
    "using (var connection = new SqlConnection(connectionString))\n",
    "{\n",
    "    // Build the SQL query with parameter\n",
    "    var sql = \"DELETE FROM Production.Product WHERE ProductID = @ProductID\";\n",
    "\n",
    "    // Execute the query and get the number of affected rows\n",
    "    var rows = await connection.ExecuteAsync(sql, new { ProductID = productID });\n",
    "\n",
    "    // Print the rows\n",
    "    Console.WriteLine(rows);\n",
    "}"
   ]
  }
 ],
 "metadata": {
  "kernelspec": {
   "display_name": ".NET (C#)",
   "language": "C#",
   "name": ".net-csharp"
  },
  "language_info": {
   "name": "polyglot-notebook"
  },
  "polyglot_notebook": {
   "kernelInfo": {
    "defaultKernelName": "csharp",
    "items": [
     {
      "aliases": [],
      "name": "csharp"
     }
    ]
   }
  }
 },
 "nbformat": 4,
 "nbformat_minor": 2
}
