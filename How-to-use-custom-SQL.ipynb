{
 "cells": [
  {
   "cell_type": "markdown",
   "metadata": {},
   "source": [
    "# How to use custom SQL"
   ]
  },
  {
   "cell_type": "markdown",
   "metadata": {},
   "source": [
    "Custom SQL in Dapper is a way of executing user-written SQL queries or commands with Dapper’s extension methods. To use custom SQL with AdventureWorks2022 database and Dapper, you need to follow these steps:\n",
    "* Install the Dapper NuGet package in your project.\n",
    "* Create a connection string to your AdventureWorks2022 database.\n",
    "* Create a class that represents the data you want to query or manipulate.\n",
    "* Create an instance of the <code>SqlConnection</code> and use the Dapper extension methods to execute your custom SQL queries or commands. For example, if you want to select all products with a list price greater than 3000, you can use the <code>Query</code> or <code>QueryAsync</code> method like this example:\n"
   ]
  },
  {
   "cell_type": "code",
   "execution_count": 1,
   "metadata": {
    "dotnet_interactive": {
     "language": "csharp"
    },
    "polyglot_notebook": {
     "kernelName": "csharp"
    }
   },
   "outputs": [],
   "source": [
    "// Connection string\n",
    "#load \"AppSettings.cs\""
   ]
  },
  {
   "cell_type": "code",
   "execution_count": 2,
   "metadata": {
    "dotnet_interactive": {
     "language": "csharp"
    },
    "polyglot_notebook": {
     "kernelName": "csharp"
    }
   },
   "outputs": [],
   "source": [
    "public class Product\n",
    "{\n",
    "    public int ProductID { get; set; }\n",
    "    public string Name { get; set; }\n",
    "    public string ProductNumber { get; set; }\n",
    "    public decimal ListPrice { get; set; }\n",
    "}"
   ]
  },
  {
   "cell_type": "code",
   "execution_count": 3,
   "metadata": {
    "dotnet_interactive": {
     "language": "csharp"
    },
    "polyglot_notebook": {
     "kernelName": "csharp"
    }
   },
   "outputs": [
    {
     "data": {
      "text/html": [
       "<div><div></div><div></div><div><strong>Installed Packages</strong><ul><li><span>Dapper, 2.1.28</span></li><li><span>Microsoft.Data.SqlClient, 5.1.2</span></li></ul></div></div>"
      ]
     },
     "metadata": {},
     "output_type": "display_data"
    },
    {
     "name": "stdout",
     "output_type": "stream",
     "text": [
      "749: Road-150 Red, 62 - $3,578.27\n",
      "750: Road-150 Red, 44 - $3,578.27\n",
      "751: Road-150 Red, 48 - $3,578.27\n",
      "752: Road-150 Red, 52 - $3,578.27\n",
      "753: Road-150 Red, 56 - $3,578.27\n",
      "771: Mountain-100 Silver, 38 - $3,399.99\n",
      "772: Mountain-100 Silver, 42 - $3,399.99\n",
      "773: Mountain-100 Silver, 44 - $3,399.99\n",
      "774: Mountain-100 Silver, 48 - $3,399.99\n",
      "775: Mountain-100 Black, 38 - $3,374.99\n",
      "776: Mountain-100 Black, 42 - $3,374.99\n",
      "777: Mountain-100 Black, 44 - $3,374.99\n",
      "778: Mountain-100 Black, 48 - $3,374.99\n"
     ]
    }
   ],
   "source": [
    "#r \"nuget:Dapper\"\n",
    "#r \"nuget:Microsoft.Data.SqlClient\"\n",
    "\n",
    "using Dapper;\n",
    "using Microsoft.Data.SqlClient;\n",
    "using System.Data;\n",
    "using System.Globalization;\n",
    "\n",
    "using (var connection = new SqlConnection(connectionString))\n",
    "{    \n",
    "    // Define the custom SQL query\n",
    "    string sql = \"SELECT * FROM Production.Product WHERE ListPrice > @Price\";\n",
    "\n",
    "    // Execute the query and map the results to a list of Product objects\n",
    "    Task<IEnumerable<Product>> task = connection.QueryAsync<Product>(sql, new { Price = 3000 });\n",
    "\n",
    "    // Print the results\n",
    "    foreach (var product in task.Result)\n",
    "    {\n",
    "        Console.WriteLine($\"{product.ProductID}: {product.Name} - {product.ListPrice.ToString(\"C\", new CultureInfo(\"en-US\"))}\");\n",
    "    }\n",
    "}\n"
   ]
  }
 ],
 "metadata": {
  "kernelspec": {
   "display_name": ".NET (C#)",
   "language": "C#",
   "name": ".net-csharp"
  },
  "language_info": {
   "name": "polyglot-notebook"
  },
  "polyglot_notebook": {
   "kernelInfo": {
    "defaultKernelName": "csharp",
    "items": [
     {
      "aliases": [],
      "name": "csharp"
     }
    ]
   }
  }
 },
 "nbformat": 4,
 "nbformat_minor": 2
}
