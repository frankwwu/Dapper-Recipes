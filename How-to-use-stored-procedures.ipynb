{
 "cells": [
  {
   "cell_type": "markdown",
   "metadata": {},
   "source": [
    "# How to use stored procedures"
   ]
  },
  {
   "cell_type": "markdown",
   "metadata": {},
   "source": [
    "To use the <code>uspGetEmployeeManagers</code> stored procedure in AdventureWorks2022 database with Dapper, for example, you need to follow these steps:\n",
    "* The <code>uspGetEmployeeManagers</code> stored procedure expects one parameter, <code>@BusinessEntityID</code>, and returns a result set of the employee's current and previous managers. You can find the definition of this stored procedure in the AdventureWorks2022 database.\n",
    "* Install the Dapper NuGet package in your project.\n",
    "* Create a connection string to your AdventureWorks2022 database.\n",
    "* Create a class that represents the data you want to query.\n",
    "* Create an instance of the <code>SqlConnection</code> and use the Dapper extension methods to execute your stored procedure. For instance, if you want to call the <code>uspGetEmployeeManagers</code> stored procedure with the value specified as the <code>@BusinessEntityID</code> parameter and map the results to a list of Employee objects, you can use the <code>Query</code>method like following example:"
   ]
  },
  {
   "cell_type": "code",
   "execution_count": 1,
   "metadata": {
    "dotnet_interactive": {
     "language": "csharp"
    },
    "polyglot_notebook": {
     "kernelName": "csharp"
    }
   },
   "outputs": [],
   "source": [
    "// Connection string\n",
    "#load \"AppSettings.cs\""
   ]
  },
  {
   "cell_type": "code",
   "execution_count": 2,
   "metadata": {
    "dotnet_interactive": {
     "language": "csharp"
    },
    "polyglot_notebook": {
     "kernelName": "csharp"
    }
   },
   "outputs": [
    {
     "data": {
      "text/html": [
       "<div><div></div><div></div><div><strong>Installed Packages</strong><ul><li><span>Dapper, 2.1.24</span></li><li><span>Microsoft.Data.SqlClient, 5.1.2</span></li></ul></div></div>"
      ]
     },
     "metadata": {},
     "output_type": "display_data"
    },
    {
     "name": "stdout",
     "output_type": "stream",
     "text": [
      "0, 12: Thierry D'Hers - Ovidiu Cracium\n",
      "1, 11: Ovidiu Cracium - Roberto Tamburello\n",
      "2, 3: Roberto Tamburello - Terri Duffy\n"
     ]
    }
   ],
   "source": [
    "#r \"nuget:Microsoft.Data.SqlClient\"\n",
    "#r \"nuget:Dapper\"\n",
    "using Microsoft.Data.SqlClient;\n",
    "using Dapper;\n",
    "using System.Data;\n",
    "\n",
    "// Create a custom class to represent the Employee data\n",
    "public class Employee\n",
    "{\n",
    "    public int RecursionLevel { get; set; }\n",
    "    public int BusinessEntityID { get; set; }\n",
    "    public string FirstName { get; set; }\n",
    "    public string LastName { get; set; }\n",
    "    public string ManagerFirstName { get; set; }\n",
    "    public string ManagerLastName { get; set; }\n",
    "}\n",
    "\n",
    "// Create a SqlConnection object using the connection string\n",
    "using (var connection = new SqlConnection(connectionString))\n",
    "{\n",
    "    // Open the connection\n",
    "    connection.Open();\n",
    "\n",
    "    string spName = \"uspGetEmployeeManagers\";\n",
    "    DynamicParameters parameters = new DynamicParameters();\n",
    "    parameters.Add(\"@BusinessEntityID\", 12);\n",
    "\n",
    "    // Execute the stored procedure and map the results to a list of Employee objects\n",
    "    List<Employee> employees = connection.Query<Employee>(spName, parameters, commandType: CommandType.StoredProcedure).ToList();\n",
    "\n",
    "    // Print the results\n",
    "    foreach (var employee in employees)\n",
    "    {\n",
    "        Console.WriteLine($\"{employee.RecursionLevel}, {employee.BusinessEntityID}: {employee.FirstName} {employee.LastName} - {employee.ManagerFirstName} {employee.ManagerLastName}\");\n",
    "    }\n",
    "}"
   ]
  }
 ],
 "metadata": {
  "kernelspec": {
   "display_name": ".NET (C#)",
   "language": "C#",
   "name": ".net-csharp"
  },
  "language_info": {
   "name": "polyglot-notebook"
  },
  "polyglot_notebook": {
   "kernelInfo": {
    "defaultKernelName": "csharp",
    "items": [
     {
      "aliases": [],
      "name": "csharp"
     }
    ]
   }
  }
 },
 "nbformat": 4,
 "nbformat_minor": 2
}
