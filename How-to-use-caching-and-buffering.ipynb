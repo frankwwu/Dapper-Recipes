{
 "cells": [
  {
   "cell_type": "markdown",
   "metadata": {},
   "source": [
    "# How to use caching and buffering"
   ]
  },
  {
   "cell_type": "markdown",
   "metadata": {},
   "source": [
    "Caching and buffering are two techniques that can improve the performance and efficiency of your database queries. Caching means storing the results of a query in memory for faster access later, while buffering means reading the data from the database in chunks rather than all at once.\n",
    "\n",
    "Dapper does not include any built-in data caching features, but you can use any external caching component, such as the MemoryCache class in the <code>Microsoft.Extensions.Caching.Memory</code> namespace. You can also configure the buffer parameter in the <code>Query</code> method to control how Dapper reads the data from the database. By default, the buffer parameter is set to true, which means Dapper will load the entire result set into a <code>&lt;List&gt;<T></code> before returning it to you. This can be useful if you want to iterate over the data multiple times, or avoid conflicts with subsequent operations on the same connection. However, if you have a large or complex query, you may want to set the buffer parameter to false, which means Dapper will stream the data as you consume it. This can reduce the memory footprint and latency of your query, but it also means you can only iterate over the data once, and you need to be careful not to use the same connection for other commands while iterating.\n",
    "\n",
    "Here is a complete example of how to use caching and buffering with C# and Dapper, using the AdventureWorks2022 database."
   ]
  },
  {
   "cell_type": "code",
   "execution_count": 1,
   "metadata": {
    "dotnet_interactive": {
     "language": "csharp"
    },
    "polyglot_notebook": {
     "kernelName": "csharp"
    }
   },
   "outputs": [],
   "source": [
    "// Connection string\n",
    "#load \"AppSettings.cs\""
   ]
  },
  {
   "cell_type": "code",
   "execution_count": 2,
   "metadata": {
    "dotnet_interactive": {
     "language": "csharp"
    },
    "polyglot_notebook": {
     "kernelName": "csharp"
    }
   },
   "outputs": [
    {
     "data": {
      "text/html": [
       "<div><div></div><div></div><div><strong>Installed Packages</strong><ul><li><span>Dapper, 2.1.28</span></li><li><span>Microsoft.Data.SqlClient, 5.1.2</span></li><li><span>Microsoft.Extensions.Caching.Memory, 8.0.0</span></li></ul></div></div>"
      ]
     },
     "metadata": {},
     "output_type": "display_data"
    }
   ],
   "source": [
    "#r \"nuget:Microsoft.Data.SqlClient\"\n",
    "#r \"nuget:Microsoft.Extensions.Caching.Memory\"\n",
    "#r \"nuget:Dapper\"\n",
    "\n",
    "using Microsoft.Data.SqlClient;\n",
    "using Microsoft.Extensions.Caching.Memory;\n",
    "using System;\n",
    "using Dapper;"
   ]
  },
  {
   "cell_type": "code",
   "execution_count": 3,
   "metadata": {
    "dotnet_interactive": {
     "language": "csharp"
    },
    "polyglot_notebook": {
     "kernelName": "csharp"
    }
   },
   "outputs": [],
   "source": [
    "public class Product\n",
    "{\n",
    "    public int ProductID { get; set; }\n",
    "    public string Name { get; set; }\n",
    "    public decimal ListPrice { get; set; }\n",
    "}"
   ]
  },
  {
   "cell_type": "code",
   "execution_count": 4,
   "metadata": {
    "dotnet_interactive": {
     "language": "csharp"
    },
    "polyglot_notebook": {
     "kernelName": "csharp"
    }
   },
   "outputs": [
    {
     "name": "stdout",
     "output_type": "stream",
     "text": [
      "Products retrieved from database.\n",
      "749: Road-150 Red, 62 - ¤3,578.27\n",
      "750: Road-150 Red, 44 - ¤3,578.27\n",
      "751: Road-150 Red, 48 - ¤3,578.27\n",
      "752: Road-150 Red, 52 - ¤3,578.27\n",
      "753: Road-150 Red, 56 - ¤3,578.27\n",
      "771: Mountain-100 Silver, 38 - ¤3,399.99\n",
      "772: Mountain-100 Silver, 42 - ¤3,399.99\n",
      "773: Mountain-100 Silver, 44 - ¤3,399.99\n",
      "774: Mountain-100 Silver, 48 - ¤3,399.99\n",
      "775: Mountain-100 Black, 38 - ¤3,374.99\n",
      "776: Mountain-100 Black, 42 - ¤3,374.99\n",
      "777: Mountain-100 Black, 44 - ¤3,374.99\n",
      "778: Mountain-100 Black, 48 - ¤3,374.99\n"
     ]
    }
   ],
   "source": [
    "// A memory cache instance\n",
    "static readonly IMemoryCache Cache = new MemoryCache(new MemoryCacheOptions());\n",
    "\n",
    "// A query to get all products from the database\n",
    "const string query = \"SELECT ProductID, Name, ListPrice FROM Production.Product WHERE ListPrice >= 3000\";\n",
    "\n",
    "// A method to get the products from the cache or the database\n",
    "private static async Task<IEnumerable<Product>> GetProductsAsync()\n",
    "{\n",
    "    // Try to get the products from the cache\n",
    "    if (Cache.TryGetValue(\"Products\", out IEnumerable<Product> products))\n",
    "    {\n",
    "        Console.WriteLine(\"Products retrieved from cache.\");\n",
    "        return products;\n",
    "    }\n",
    "\n",
    "    // If the cache is empty, get the products from the database\n",
    "    Console.WriteLine(\"Products retrieved from database.\");\n",
    "    using (var connection = new SqlConnection(connectionString))\n",
    "    {\n",
    "        // Use buffered: false to stream the data from the database\n",
    "        products = connection.Query<Product>(query, buffered: false);\n",
    "        // products = await connection.QueryAsync<Product>(query, buffered: false);\n",
    "\n",
    "        // Store the products in the cache with an expiration time of 10 minutes\n",
    "        Cache.Set(\"Products\", products, TimeSpan.FromMinutes(10));\n",
    "\n",
    "        // Return the products as a list\n",
    "        return products.ToList();\n",
    "    }\n",
    "}\n",
    "\n",
    "// Get the products from the cache or the database\n",
    "var products = await GetProductsAsync();\n",
    "\n",
    "// Print the products to the console\n",
    "foreach (var product in products)\n",
    "{\n",
    "    Console.WriteLine($\"{product.ProductID}: {product.Name} - {product.ListPrice:C}\");\n",
    "}"
   ]
  }
 ],
 "metadata": {
  "kernelspec": {
   "display_name": ".NET (C#)",
   "language": "C#",
   "name": ".net-csharp"
  },
  "language_info": {
   "name": "polyglot-notebook"
  },
  "polyglot_notebook": {
   "kernelInfo": {
    "defaultKernelName": "csharp",
    "items": [
     {
      "aliases": [],
      "name": "csharp"
     }
    ]
   }
  }
 },
 "nbformat": 4,
 "nbformat_minor": 2
}
